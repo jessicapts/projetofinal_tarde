{
  "cells": [
    {
      "cell_type": "markdown",
      "metadata": {
        "id": "7KcK3mpm1WUy"
      },
      "source": [
        "#### Ciência de Dados com Python/IA - SENAI-DF - Vespertino - 0/08/2024 - Marcelo Pereira Avelino"
      ]
    },
    {
      "cell_type": "markdown",
      "metadata": {
        "id": "5lCNaN3R1WUz"
      },
      "source": [
        "*`A execução do código das próximas 3 (três) células é necesária para dar continuidade a aula de hoje.`*"
      ]
    },
    {
      "cell_type": "code",
      "execution_count": 234,
      "metadata": {
        "id": "o5zIielk1WUz"
      },
      "outputs": [],
      "source": [
        "# 1. Importação de Bibliotecas - Bibliotecas necessárias para a execução dos comandos SQL e manipulação de dados:\n",
        "import pandas as pd\n",
        "import urllib.parse\n",
        "from sqlalchemy import create_engine"
      ]
    },
    {
      "cell_type": "code",
      "execution_count": 235,
      "metadata": {
        "id": "z0EDZ6FY1WU0"
      },
      "outputs": [],
      "source": [
        "# 2. Definindo a Conexão com o Banco de Dados - Configurando a conexão com o banco de dados MySQL:\n",
        "user = 'root'\n",
        "password = urllib.parse.quote_plus('senai@123')\n",
        "host = 'localhost'  # ou o endereço do seu servidor de banco de dados\n",
        "database = 'scooltracker'\n",
        "\n",
        "# Crie uma URL de conexão\n",
        "connection_string = f'mysql+pymysql://{user}:{password}@{host}/{database}'\n",
        "\n",
        "# Crie um engine do SQLAlchemy\n",
        "engine = create_engine(connection_string)"
      ]
    },
    {
      "cell_type": "code",
      "execution_count": 236,
      "metadata": {
        "id": "byU3ISGz1WU0",
        "outputId": "b396ea44-d007-4129-943c-309b40c32c9c"
      },
      "outputs": [
        {
          "data": {
            "text/html": [
              "<div>\n",
              "<style scoped>\n",
              "    .dataframe tbody tr th:only-of-type {\n",
              "        vertical-align: middle;\n",
              "    }\n",
              "\n",
              "    .dataframe tbody tr th {\n",
              "        vertical-align: top;\n",
              "    }\n",
              "\n",
              "    .dataframe thead th {\n",
              "        text-align: right;\n",
              "    }\n",
              "</style>\n",
              "<table border=\"1\" class=\"dataframe\">\n",
              "  <thead>\n",
              "    <tr style=\"text-align: right;\">\n",
              "      <th></th>\n",
              "      <th>id</th>\n",
              "      <th>ra</th>\n",
              "      <th>nome</th>\n",
              "      <th>tempoestudo</th>\n",
              "      <th>rendafamiliae</th>\n",
              "    </tr>\n",
              "  </thead>\n",
              "  <tbody>\n",
              "    <tr>\n",
              "      <th>0</th>\n",
              "      <td>55</td>\n",
              "      <td>00034549</td>\n",
              "      <td>None</td>\n",
              "      <td>0</td>\n",
              "      <td>None</td>\n",
              "    </tr>\n",
              "    <tr>\n",
              "      <th>1</th>\n",
              "      <td>56</td>\n",
              "      <td>00034547</td>\n",
              "      <td>None</td>\n",
              "      <td>0</td>\n",
              "      <td>None</td>\n",
              "    </tr>\n",
              "    <tr>\n",
              "      <th>2</th>\n",
              "      <td>57</td>\n",
              "      <td>00034550</td>\n",
              "      <td>None</td>\n",
              "      <td>0</td>\n",
              "      <td>None</td>\n",
              "    </tr>\n",
              "    <tr>\n",
              "      <th>3</th>\n",
              "      <td>58</td>\n",
              "      <td>00034551</td>\n",
              "      <td>None</td>\n",
              "      <td>0</td>\n",
              "      <td>None</td>\n",
              "    </tr>\n",
              "    <tr>\n",
              "      <th>4</th>\n",
              "      <td>59</td>\n",
              "      <td>00034552</td>\n",
              "      <td>None</td>\n",
              "      <td>0</td>\n",
              "      <td>None</td>\n",
              "    </tr>\n",
              "  </tbody>\n",
              "</table>\n",
              "</div>"
            ],
            "text/plain": [
              "   id        ra  nome  tempoestudo rendafamiliae\n",
              "0  55  00034549  None            0          None\n",
              "1  56  00034547  None            0          None\n",
              "2  57  00034550  None            0          None\n",
              "3  58  00034551  None            0          None\n",
              "4  59  00034552  None            0          None"
            ]
          },
          "execution_count": 236,
          "metadata": {},
          "output_type": "execute_result"
        }
      ],
      "source": [
        "# 3. Escreva sua consulta SQL\n",
        "query_alunos = \"SELECT * FROM aluno\"\n",
        "\n",
        "# Use pandas para executar a consulta e importar os dados\n",
        "df_alunos = pd.read_sql(query_alunos, engine)\n",
        "\n",
        "# Mostre os primeiros registros do DataFrame\n",
        "df_alunos.head()"
      ]
    },
    {
      "cell_type": "code",
      "execution_count": 237,
      "metadata": {
        "id": "NugRqS4A1WU1",
        "outputId": "cd565804-c6f8-4537-8c3f-5938dff0c717"
      },
      "outputs": [
        {
          "data": {
            "text/html": [
              "<div>\n",
              "<style scoped>\n",
              "    .dataframe tbody tr th:only-of-type {\n",
              "        vertical-align: middle;\n",
              "    }\n",
              "\n",
              "    .dataframe tbody tr th {\n",
              "        vertical-align: top;\n",
              "    }\n",
              "\n",
              "    .dataframe thead th {\n",
              "        text-align: right;\n",
              "    }\n",
              "</style>\n",
              "<table border=\"1\" class=\"dataframe\">\n",
              "  <thead>\n",
              "    <tr style=\"text-align: right;\">\n",
              "      <th></th>\n",
              "      <th>tempoestudo</th>\n",
              "      <th>rendafamiliae</th>\n",
              "    </tr>\n",
              "  </thead>\n",
              "  <tbody>\n",
              "    <tr>\n",
              "      <th>0</th>\n",
              "      <td>0</td>\n",
              "      <td>None</td>\n",
              "    </tr>\n",
              "    <tr>\n",
              "      <th>1</th>\n",
              "      <td>0</td>\n",
              "      <td>None</td>\n",
              "    </tr>\n",
              "  </tbody>\n",
              "</table>\n",
              "</div>"
            ],
            "text/plain": [
              "   tempoestudo rendafamiliae\n",
              "0            0          None\n",
              "1            0          None"
            ]
          },
          "execution_count": 237,
          "metadata": {},
          "output_type": "execute_result"
        }
      ],
      "source": [
        "# Retorne o DataFrame da última aula com as duas primeiras linhas como amostras.\n",
        "\n",
        "df_tempo_renda = df_alunos[['tempoestudo', 'rendafamiliae']]\n",
        "df_tempo_renda.head(2)"
      ]
    },
    {
      "cell_type": "code",
      "execution_count": 238,
      "metadata": {
        "id": "7YPn97p_1WU1",
        "outputId": "22d52fa1-e5ba-494e-d938-1ab0739d0fd2"
      },
      "outputs": [
        {
          "data": {
            "text/html": [
              "<div>\n",
              "<style scoped>\n",
              "    .dataframe tbody tr th:only-of-type {\n",
              "        vertical-align: middle;\n",
              "    }\n",
              "\n",
              "    .dataframe tbody tr th {\n",
              "        vertical-align: top;\n",
              "    }\n",
              "\n",
              "    .dataframe thead th {\n",
              "        text-align: right;\n",
              "    }\n",
              "</style>\n",
              "<table border=\"1\" class=\"dataframe\">\n",
              "  <thead>\n",
              "    <tr style=\"text-align: right;\">\n",
              "      <th></th>\n",
              "      <th>tempoestudo</th>\n",
              "      <th>rendafamiliae</th>\n",
              "    </tr>\n",
              "  </thead>\n",
              "  <tbody>\n",
              "    <tr>\n",
              "      <th>97</th>\n",
              "      <td>0</td>\n",
              "      <td>None</td>\n",
              "    </tr>\n",
              "    <tr>\n",
              "      <th>98</th>\n",
              "      <td>0</td>\n",
              "      <td>None</td>\n",
              "    </tr>\n",
              "  </tbody>\n",
              "</table>\n",
              "</div>"
            ],
            "text/plain": [
              "    tempoestudo rendafamiliae\n",
              "97            0          None\n",
              "98            0          None"
            ]
          },
          "execution_count": 238,
          "metadata": {},
          "output_type": "execute_result"
        }
      ],
      "source": [
        "# Retorne o DataFrame da última aula com as duas últimas linhas como amostras.\n",
        "\n",
        "df_tempo_renda = df_alunos[['tempoestudo', 'rendafamiliae']]\n",
        "df_tempo_renda.tail(2)"
      ]
    },
    {
      "cell_type": "code",
      "execution_count": 239,
      "metadata": {
        "id": "0giAri5e1WU1",
        "outputId": "466df029-abf9-475e-c647-278fc286b722"
      },
      "outputs": [
        {
          "data": {
            "text/plain": [
              "(99, 2)"
            ]
          },
          "execution_count": 239,
          "metadata": {},
          "output_type": "execute_result"
        }
      ],
      "source": [
        "# Retorne o DataFrame da última aula e apresente uma tupla com números de linhas e colunas.\n",
        "df_tempo_renda.shape\n",
        "# Shape é um método/Function."
      ]
    },
    {
      "cell_type": "code",
      "execution_count": 240,
      "metadata": {
        "id": "C1oii1801WU1",
        "outputId": "e85e7378-812f-48ff-c856-f1db4cbd5ea3"
      },
      "outputs": [
        {
          "name": "stdout",
          "output_type": "stream",
          "text": [
            "<class 'pandas.core.frame.DataFrame'>\n",
            "RangeIndex: 99 entries, 0 to 98\n",
            "Data columns (total 2 columns):\n",
            " #   Column         Non-Null Count  Dtype \n",
            "---  ------         --------------  ----- \n",
            " 0   tempoestudo    99 non-null     int64 \n",
            " 1   rendafamiliae  0 non-null      object\n",
            "dtypes: int64(1), object(1)\n",
            "memory usage: 1.7+ KB\n"
          ]
        }
      ],
      "source": [
        "# Retorne o DataFrame da última aula e apresente todas as informações gerais do DataFrame\n",
        "df_tempo_renda.info()\n",
        "# 'info()' = Método/Function"
      ]
    },
    {
      "cell_type": "code",
      "execution_count": 241,
      "metadata": {
        "id": "H_XkzImK1WU1",
        "outputId": "dc881c53-393a-409f-abcc-4d9ee180c865"
      },
      "outputs": [],
      "source": [
        "# Retorne o DataFrame da última aula e verifique a quantidade de registros\n",
        "# `df_tempo_renda` é o DataFrame retornado anteriormente, contendo as colunas 'tempoestudo' e 'rendafamiliar'\n",
        "qtde = len(df_tempo_renda)  # Conta o número de registros (linhas) no DataFrame\n",
        "\n",
        "# Verifica se a quantidade de registros é menor ou igual a 20\n",
        "if qtde <= 20:\n",
        "    print(f\"Quantidade: {qtde} dentro do ideal.\")  # Se for, imprime uma mensagem indicando que a quantidade está dentro do ideal."
      ]
    },
    {
      "cell_type": "code",
      "execution_count": 242,
      "metadata": {
        "id": "XkDjs2c91WU2",
        "outputId": "cca7168e-0a04-443c-9ca4-56f32933bae8"
      },
      "outputs": [
        {
          "data": {
            "text/plain": [
              "Index(['tempoestudo', 'rendafamiliae'], dtype='object')"
            ]
          },
          "execution_count": 242,
          "metadata": {},
          "output_type": "execute_result"
        }
      ],
      "source": [
        "# Retorne o DataFrame da última aula e retorne as colunas.\n",
        "# Aqui estamos assumindo que 'df_tempo_renda' é um DataFrame já carregado com os dados de interesse.\n",
        "# O método 'columns' do DataFrame retorna uma lista com os nomes das colunas do DataFrame.\n",
        "df_tempo_renda.columns"
      ]
    },
    {
      "cell_type": "code",
      "execution_count": 243,
      "metadata": {
        "id": "x0yBlc0a1WU2",
        "outputId": "9337ca5f-c5b1-4c5d-a14e-4e95ef8fc293"
      },
      "outputs": [
        {
          "name": "stdout",
          "output_type": "stream",
          "text": [
            "<class 'pandas.core.series.Series'>\n",
            "RangeIndex: 99 entries, 0 to 98\n",
            "Series name: rendafamiliae\n",
            "Non-Null Count  Dtype \n",
            "--------------  ----- \n",
            "0 non-null      object\n",
            "dtypes: object(1)\n",
            "memory usage: 924.0+ bytes\n"
          ]
        }
      ],
      "source": [
        "# Retorne o DataFrame da última aula e retorne informações apenas da coluna rendafamiliar\n",
        "# Aqui estamos assumindo que 'df_tempo_renda' é um DataFrame já carregado com os dados de interesse.\n",
        "# Selecionamos a coluna 'rendafamiliar' do DataFrame 'df_tempo_renda' utilizando a notação de colchetes.\n",
        "# O método 'info()' fornece informações sobre o DataFrame, como o número de entradas, o tipo de dados, e se há valores nulos.\n",
        "# No caso de uma única coluna, 'info()' retornará informações específicas dessa coluna.\n",
        "df_tempo_renda['rendafamiliae'].info()"
      ]
    },
    {
      "cell_type": "code",
      "execution_count": 244,
      "metadata": {
        "id": "srvkZdft1WU2",
        "outputId": "79768a9d-378e-4a18-b2a6-bb8ea4009c0f"
      },
      "outputs": [
        {
          "data": {
            "text/plain": [
              "id                int64\n",
              "ra               object\n",
              "nome             object\n",
              "tempoestudo       int64\n",
              "rendafamiliae    object\n",
              "dtype: object"
            ]
          },
          "execution_count": 244,
          "metadata": {},
          "output_type": "execute_result"
        }
      ],
      "source": [
        "# Mostre os tipos de dados com dtypes do DataFrame 'df_alunos'\n",
        "\n",
        "# A linha de código abaixo retorna os tipos de dados de cada coluna no DataFrame 'df_alunos'.\n",
        "# O atributo 'dtypes' do DataFrame fornece uma série com o nome da coluna como índice e o tipo de dados da coluna como valor.\n",
        "df_alunos.dtypes\n",
        "\n",
        "# Resultado esperado:\n",
        "# A execução deste comando irá produzir uma saída similar à seguinte:\n",
        "#\n",
        "# id               int64\n",
        "# ra              object\n",
        "# nome            object\n",
        "# tempoestudo      int64\n",
        "# rendafamiliar  float64\n",
        "# dtype: object\n",
        "#\n",
        "# Esta saída mostra os tipos de dados de cada coluna no DataFrame 'df_alunos':\n",
        "# - 'id' é do tipo int64 (inteiro de 64 bits).\n",
        "# - 'ra' e 'nome' são do tipo object, que é geralmente usado para strings.\n",
        "# - 'tempoestudo' é do tipo int64.\n",
        "# - 'rendafamiliar' é do tipo float64 (número de ponto flutuante de 64 bits)."
      ]
    },
    {
      "cell_type": "code",
      "execution_count": 245,
      "metadata": {
        "id": "NBnX93Gf1WU2",
        "outputId": "3a2241e8-2155-4aad-b410-b7522b6f670f"
      },
      "outputs": [
        {
          "data": {
            "text/html": [
              "<div>\n",
              "<style scoped>\n",
              "    .dataframe tbody tr th:only-of-type {\n",
              "        vertical-align: middle;\n",
              "    }\n",
              "\n",
              "    .dataframe tbody tr th {\n",
              "        vertical-align: top;\n",
              "    }\n",
              "\n",
              "    .dataframe thead th {\n",
              "        text-align: right;\n",
              "    }\n",
              "</style>\n",
              "<table border=\"1\" class=\"dataframe\">\n",
              "  <thead>\n",
              "    <tr style=\"text-align: right;\">\n",
              "      <th></th>\n",
              "      <th>id</th>\n",
              "      <th>tempoestudo</th>\n",
              "    </tr>\n",
              "  </thead>\n",
              "  <tbody>\n",
              "    <tr>\n",
              "      <th>count</th>\n",
              "      <td>99.000000</td>\n",
              "      <td>99.0</td>\n",
              "    </tr>\n",
              "    <tr>\n",
              "      <th>mean</th>\n",
              "      <td>104.484848</td>\n",
              "      <td>0.0</td>\n",
              "    </tr>\n",
              "    <tr>\n",
              "      <th>std</th>\n",
              "      <td>29.158736</td>\n",
              "      <td>0.0</td>\n",
              "    </tr>\n",
              "    <tr>\n",
              "      <th>min</th>\n",
              "      <td>55.000000</td>\n",
              "      <td>0.0</td>\n",
              "    </tr>\n",
              "    <tr>\n",
              "      <th>25%</th>\n",
              "      <td>79.500000</td>\n",
              "      <td>0.0</td>\n",
              "    </tr>\n",
              "    <tr>\n",
              "      <th>50%</th>\n",
              "      <td>104.000000</td>\n",
              "      <td>0.0</td>\n",
              "    </tr>\n",
              "    <tr>\n",
              "      <th>75%</th>\n",
              "      <td>129.500000</td>\n",
              "      <td>0.0</td>\n",
              "    </tr>\n",
              "    <tr>\n",
              "      <th>max</th>\n",
              "      <td>154.000000</td>\n",
              "      <td>0.0</td>\n",
              "    </tr>\n",
              "  </tbody>\n",
              "</table>\n",
              "</div>"
            ],
            "text/plain": [
              "               id  tempoestudo\n",
              "count   99.000000         99.0\n",
              "mean   104.484848          0.0\n",
              "std     29.158736          0.0\n",
              "min     55.000000          0.0\n",
              "25%     79.500000          0.0\n",
              "50%    104.000000          0.0\n",
              "75%    129.500000          0.0\n",
              "max    154.000000          0.0"
            ]
          },
          "execution_count": 245,
          "metadata": {},
          "output_type": "execute_result"
        }
      ],
      "source": [
        "# Estatística descritiva do DataFrame 'df_alunos'\n",
        "\n",
        "# A linha de código abaixo gera estatísticas descritivas do DataFrame 'df_alunos'.\n",
        "# O método 'describe()' do DataFrame retorna uma tabela com estatísticas resumidas\n",
        "# das colunas numéricas, como contagem, média, desvio padrão, valores mínimo e máximo,\n",
        "# e os quartis (25%, 50%, e 75%).\n",
        "\n",
        "df_alunos.describe()\n",
        "\n",
        "# Resultado esperado:\n",
        "# A execução deste comando irá produzir uma saída similar à seguinte:\n",
        "#\n",
        "#               id  tempoestudo  rendafamiliar\n",
        "# count  20.000000    20.000000      20.000000\n",
        "# mean   10.500000     5.500000    2750.375000\n",
        "# std     5.916080     1.581139     738.627760\n",
        "# min     1.000000     3.000000    1500.400000\n",
        "# 25%     5.750000     4.000000    2300.000000\n",
        "# 50%    10.500000     5.500000    2700.300000\n",
        "# 75%    15.250000     7.000000    3100.175000\n",
        "# max    20.000000     8.000000    4200.400000\n",
        "#\n",
        "# Esta saída mostra as seguintes estatísticas para as colunas numéricas do DataFrame 'df_alunos':\n",
        "# - 'id': O identificador único do aluno.\n",
        "# - 'tempoestudo': O tempo de estudo do aluno.\n",
        "# - 'rendafamiliar': A renda familiar do aluno.\n",
        "#\n",
        "# Para cada coluna numérica, as seguintes estatísticas são fornecidas:\n",
        "# - count: O número de valores não nulos.\n",
        "# - mean: A média dos valores.\n",
        "# - std: O desvio padrão dos valores.\n",
        "# - min: O valor mínimo.\n",
        "# - 25%: O primeiro quartil (25% dos dados são menores que este valor).\n",
        "# - 50%: O segundo quartil ou mediana (50% dos dados são menores que este valor).\n",
        "# - 75%: O terceiro quartil (75% dos dados são menores que este valor).\n",
        "# - max: O valor máximo."
      ]
    },
    {
      "cell_type": "markdown",
      "metadata": {
        "id": "Mbdpohfb1WU2"
      },
      "source": [
        "*`Exercicio Avaliativo - DataFrame 'pd_diariobordo'`*\n",
        "\n",
        "- Crie o cenário de utilização de recursos considerando a tabela 'diariobordo'"
      ]
    },
    {
      "cell_type": "code",
      "execution_count": 246,
      "metadata": {
        "id": "WkSZ89mv1WU2"
      },
      "outputs": [],
      "source": [
        "# Realizando a consulta SQL na  tabela diariobordo\n",
        "query_diariobordo = \"SELECT * from diariobordo\""
      ]
    },
    {
      "cell_type": "code",
      "execution_count": 247,
      "metadata": {
        "id": "cW_7vJtT1WU3"
      },
      "outputs": [],
      "source": [
        "# Criando o dataframe conforme consulta realizada\n",
        "df_diariobordo = pd.read_sql(query_diariobordo,engine)"
      ]
    },
    {
      "cell_type": "code",
      "execution_count": 248,
      "metadata": {
        "id": "gykKRTNr1WU3",
        "outputId": "5ba2c8a6-5d76-4179-88d8-86967faeb16b"
      },
      "outputs": [
        {
          "data": {
            "text/html": [
              "<div>\n",
              "<style scoped>\n",
              "    .dataframe tbody tr th:only-of-type {\n",
              "        vertical-align: middle;\n",
              "    }\n",
              "\n",
              "    .dataframe tbody tr th {\n",
              "        vertical-align: top;\n",
              "    }\n",
              "\n",
              "    .dataframe thead th {\n",
              "        text-align: right;\n",
              "    }\n",
              "</style>\n",
              "<table border=\"1\" class=\"dataframe\">\n",
              "  <thead>\n",
              "    <tr style=\"text-align: right;\">\n",
              "      <th></th>\n",
              "      <th>id</th>\n",
              "      <th>texto</th>\n",
              "      <th>datahora</th>\n",
              "      <th>fk_Aluno_id</th>\n",
              "    </tr>\n",
              "  </thead>\n",
              "  <tbody>\n",
              "    <tr>\n",
              "      <th>0</th>\n",
              "      <td>1</td>\n",
              "      <td>texto de exemplo</td>\n",
              "      <td>2024-07-31 15:00:00</td>\n",
              "      <td>34597</td>\n",
              "    </tr>\n",
              "    <tr>\n",
              "      <th>1</th>\n",
              "      <td>2</td>\n",
              "      <td>texto de exemplo</td>\n",
              "      <td>2024-07-31 15:00:00</td>\n",
              "      <td>34597</td>\n",
              "    </tr>\n",
              "    <tr>\n",
              "      <th>2</th>\n",
              "      <td>3</td>\n",
              "      <td>inserindo dados do aluno na tabela usando o ch...</td>\n",
              "      <td>2024-07-31 17:48:00</td>\n",
              "      <td>175964</td>\n",
              "    </tr>\n",
              "  </tbody>\n",
              "</table>\n",
              "</div>"
            ],
            "text/plain": [
              "   id                                              texto            datahora  \\\n",
              "0   1                                   texto de exemplo 2024-07-31 15:00:00   \n",
              "1   2                                   texto de exemplo 2024-07-31 15:00:00   \n",
              "2   3  inserindo dados do aluno na tabela usando o ch... 2024-07-31 17:48:00   \n",
              "\n",
              "   fk_Aluno_id  \n",
              "0        34597  \n",
              "1        34597  \n",
              "2       175964  "
            ]
          },
          "execution_count": 248,
          "metadata": {},
          "output_type": "execute_result"
        }
      ],
      "source": [
        "# Mostrando os cinco primeiros registros do DataFrame df_diariobordo\n",
        "df_diariobordo.head(5)"
      ]
    },
    {
      "cell_type": "code",
      "execution_count": 249,
      "metadata": {
        "id": "QH2o6QZg1WU3",
        "outputId": "688261a0-5e07-45e1-b82a-05bc125928f6"
      },
      "outputs": [
        {
          "data": {
            "text/html": [
              "<div>\n",
              "<style scoped>\n",
              "    .dataframe tbody tr th:only-of-type {\n",
              "        vertical-align: middle;\n",
              "    }\n",
              "\n",
              "    .dataframe tbody tr th {\n",
              "        vertical-align: top;\n",
              "    }\n",
              "\n",
              "    .dataframe thead th {\n",
              "        text-align: right;\n",
              "    }\n",
              "</style>\n",
              "<table border=\"1\" class=\"dataframe\">\n",
              "  <thead>\n",
              "    <tr style=\"text-align: right;\">\n",
              "      <th></th>\n",
              "      <th>id</th>\n",
              "      <th>texto</th>\n",
              "      <th>datahora</th>\n",
              "      <th>fk_Aluno_id</th>\n",
              "    </tr>\n",
              "  </thead>\n",
              "  <tbody>\n",
              "    <tr>\n",
              "      <th>0</th>\n",
              "      <td>1</td>\n",
              "      <td>texto de exemplo</td>\n",
              "      <td>2024-07-31 15:00:00</td>\n",
              "      <td>34597</td>\n",
              "    </tr>\n",
              "    <tr>\n",
              "      <th>1</th>\n",
              "      <td>2</td>\n",
              "      <td>texto de exemplo</td>\n",
              "      <td>2024-07-31 15:00:00</td>\n",
              "      <td>34597</td>\n",
              "    </tr>\n",
              "    <tr>\n",
              "      <th>2</th>\n",
              "      <td>3</td>\n",
              "      <td>inserindo dados do aluno na tabela usando o ch...</td>\n",
              "      <td>2024-07-31 17:48:00</td>\n",
              "      <td>175964</td>\n",
              "    </tr>\n",
              "  </tbody>\n",
              "</table>\n",
              "</div>"
            ],
            "text/plain": [
              "   id                                              texto            datahora  \\\n",
              "0   1                                   texto de exemplo 2024-07-31 15:00:00   \n",
              "1   2                                   texto de exemplo 2024-07-31 15:00:00   \n",
              "2   3  inserindo dados do aluno na tabela usando o ch... 2024-07-31 17:48:00   \n",
              "\n",
              "   fk_Aluno_id  \n",
              "0        34597  \n",
              "1        34597  \n",
              "2       175964  "
            ]
          },
          "execution_count": 249,
          "metadata": {},
          "output_type": "execute_result"
        }
      ],
      "source": [
        "# Mostrando os cinco últimos registros do DataFrame df_diariobordo\n",
        "df_diariobordo.tail(5)"
      ]
    },
    {
      "cell_type": "code",
      "execution_count": 250,
      "metadata": {
        "id": "0N122W971WU3",
        "outputId": "d5a79de8-e29a-436a-a7a5-b1dac8007008"
      },
      "outputs": [
        {
          "data": {
            "text/plain": [
              "(3, 4)"
            ]
          },
          "execution_count": 250,
          "metadata": {},
          "output_type": "execute_result"
        }
      ],
      "source": [
        "# Retorne o DataFrame da última aula e apresente uma tupla com números de linhas e colunas.\n",
        "df_diariobordo.shape"
      ]
    },
    {
      "cell_type": "code",
      "execution_count": 251,
      "metadata": {
        "id": "1ROdvCik1WU3",
        "outputId": "1a06e37f-9df9-46d6-f0ff-231579a65ead"
      },
      "outputs": [
        {
          "data": {
            "text/plain": [
              "Index(['id', 'texto', 'datahora', 'fk_Aluno_id'], dtype='object')"
            ]
          },
          "execution_count": 251,
          "metadata": {},
          "output_type": "execute_result"
        }
      ],
      "source": [
        "# Retorne o DataFrame da última aula e retorne as colunas.\n",
        "df_diariobordo.columns"
      ]
    },
    {
      "cell_type": "code",
      "execution_count": 252,
      "metadata": {
        "id": "ZpAXsnh51WU3"
      },
      "outputs": [],
      "source": [
        "# Gerando um CSV do dataframe 'df_diariobordo'\n",
        "csv_filename = 'diario.csv'\n",
        "df_diariobordo.to_csv(csv_filename, index=False)"
      ]
    },
    {
      "cell_type": "markdown",
      "metadata": {
        "id": "-5JwKpoM1WU3"
      },
      "source": [
        "*`Exercicio Avaliativo - DataFrame 'pd_avaliacao'`*\n",
        "\n",
        "- Crie o cenário de utilização de recursos considerando a tabela 'avaliacao'"
      ]
    },
    {
      "cell_type": "code",
      "execution_count": 253,
      "metadata": {
        "id": "QF2vflMS1WU3"
      },
      "outputs": [],
      "source": [
        "# Realizando a consulta SQL na  tabela diariobordo\n",
        "query_scootracker = \"SELECT * from avaliacao\""
      ]
    },
    {
      "cell_type": "code",
      "execution_count": 254,
      "metadata": {
        "id": "lWDHql2u1WU3"
      },
      "outputs": [],
      "source": [
        "# Criando o dataframe conforme consulta realizada\n",
        "df_diariobordo = pd.read_sql(query_diariobordo,engine)"
      ]
    },
    {
      "cell_type": "code",
      "execution_count": 255,
      "metadata": {
        "id": "nlcObsYi1WU4"
      },
      "outputs": [],
      "source": [
        "# Gerando um CSV do dataframe 'df_avaliacao'\n",
        "csv_filename = 'api_alunos.json'\n",
        "df_alunos.to_json (csv_filename, index=False)"
      ]
    },
    {
      "cell_type": "code",
      "execution_count": 256,
      "metadata": {},
      "outputs": [
        {
          "name": "stdout",
          "output_type": "stream",
          "text": [
            "Requirement already satisfied: openpyxl in c:\\users\\ead\\desktop\\projetofinal_tarde\\.venv\\lib\\site-packages (3.1.5)\n",
            "Requirement already satisfied: et-xmlfile in c:\\users\\ead\\desktop\\projetofinal_tarde\\.venv\\lib\\site-packages (from openpyxl) (1.1.0)\n"
          ]
        }
      ],
      "source": [
        "! pip install openpyxl"
      ]
    },
    {
      "cell_type": "code",
      "execution_count": 257,
      "metadata": {},
      "outputs": [],
      "source": [
        "csv_filename = 'planilha_alunos.xlsx'\n",
        "df_alunos.to_excel(csv_filename,index=False)"
      ]
    },
    {
      "cell_type": "code",
      "execution_count": 258,
      "metadata": {},
      "outputs": [
        {
          "data": {
            "text/plain": [
              "Index(['id', 'ra', 'nome', 'tempoestudo', 'rendafamiliae'], dtype='object')"
            ]
          },
          "execution_count": 258,
          "metadata": {},
          "output_type": "execute_result"
        }
      ],
      "source": [
        "df_alunos.columns"
      ]
    },
    {
      "cell_type": "code",
      "execution_count": 259,
      "metadata": {},
      "outputs": [
        {
          "data": {
            "text/html": [
              "<div>\n",
              "<style scoped>\n",
              "    .dataframe tbody tr th:only-of-type {\n",
              "        vertical-align: middle;\n",
              "    }\n",
              "\n",
              "    .dataframe tbody tr th {\n",
              "        vertical-align: top;\n",
              "    }\n",
              "\n",
              "    .dataframe thead th {\n",
              "        text-align: right;\n",
              "    }\n",
              "</style>\n",
              "<table border=\"1\" class=\"dataframe\">\n",
              "  <thead>\n",
              "    <tr style=\"text-align: right;\">\n",
              "      <th></th>\n",
              "      <th>tempoestudo</th>\n",
              "      <th>rendafamiliae</th>\n",
              "    </tr>\n",
              "  </thead>\n",
              "  <tbody>\n",
              "    <tr>\n",
              "      <th>0</th>\n",
              "      <td>0</td>\n",
              "      <td>None</td>\n",
              "    </tr>\n",
              "    <tr>\n",
              "      <th>1</th>\n",
              "      <td>0</td>\n",
              "      <td>None</td>\n",
              "    </tr>\n",
              "    <tr>\n",
              "      <th>2</th>\n",
              "      <td>0</td>\n",
              "      <td>None</td>\n",
              "    </tr>\n",
              "    <tr>\n",
              "      <th>3</th>\n",
              "      <td>0</td>\n",
              "      <td>None</td>\n",
              "    </tr>\n",
              "    <tr>\n",
              "      <th>4</th>\n",
              "      <td>0</td>\n",
              "      <td>None</td>\n",
              "    </tr>\n",
              "    <tr>\n",
              "      <th>...</th>\n",
              "      <td>...</td>\n",
              "      <td>...</td>\n",
              "    </tr>\n",
              "    <tr>\n",
              "      <th>94</th>\n",
              "      <td>0</td>\n",
              "      <td>None</td>\n",
              "    </tr>\n",
              "    <tr>\n",
              "      <th>95</th>\n",
              "      <td>0</td>\n",
              "      <td>None</td>\n",
              "    </tr>\n",
              "    <tr>\n",
              "      <th>96</th>\n",
              "      <td>0</td>\n",
              "      <td>None</td>\n",
              "    </tr>\n",
              "    <tr>\n",
              "      <th>97</th>\n",
              "      <td>0</td>\n",
              "      <td>None</td>\n",
              "    </tr>\n",
              "    <tr>\n",
              "      <th>98</th>\n",
              "      <td>0</td>\n",
              "      <td>None</td>\n",
              "    </tr>\n",
              "  </tbody>\n",
              "</table>\n",
              "<p>99 rows × 2 columns</p>\n",
              "</div>"
            ],
            "text/plain": [
              "    tempoestudo rendafamiliae\n",
              "0             0          None\n",
              "1             0          None\n",
              "2             0          None\n",
              "3             0          None\n",
              "4             0          None\n",
              "..          ...           ...\n",
              "94            0          None\n",
              "95            0          None\n",
              "96            0          None\n",
              "97            0          None\n",
              "98            0          None\n",
              "\n",
              "[99 rows x 2 columns]"
            ]
          },
          "execution_count": 259,
          "metadata": {},
          "output_type": "execute_result"
        }
      ],
      "source": [
        "df_tempo_renda = df_alunos[['tempoestudo', 'rendafamiliae']]\n",
        "df_tempo_renda"
      ]
    },
    {
      "cell_type": "code",
      "execution_count": 260,
      "metadata": {
        "id": "NHnjQCDa1WU4",
        "outputId": "2555e2b4-0d43-451f-d085-e5447bb7f691"
      },
      "outputs": [
        {
          "data": {
            "text/html": [
              "<div>\n",
              "<style scoped>\n",
              "    .dataframe tbody tr th:only-of-type {\n",
              "        vertical-align: middle;\n",
              "    }\n",
              "\n",
              "    .dataframe tbody tr th {\n",
              "        vertical-align: top;\n",
              "    }\n",
              "\n",
              "    .dataframe thead th {\n",
              "        text-align: right;\n",
              "    }\n",
              "</style>\n",
              "<table border=\"1\" class=\"dataframe\">\n",
              "  <thead>\n",
              "    <tr style=\"text-align: right;\">\n",
              "      <th></th>\n",
              "      <th>id</th>\n",
              "      <th>texto</th>\n",
              "      <th>datahora</th>\n",
              "      <th>fk_Aluno_id</th>\n",
              "    </tr>\n",
              "  </thead>\n",
              "  <tbody>\n",
              "  </tbody>\n",
              "</table>\n",
              "</div>"
            ],
            "text/plain": [
              "Empty DataFrame\n",
              "Columns: [id, texto, datahora, fk_Aluno_id]\n",
              "Index: []"
            ]
          },
          "execution_count": 260,
          "metadata": {},
          "output_type": "execute_result"
        }
      ],
      "source": [
        "# Fatiamento\n",
        "\n",
        "# O código abaixo realiza uma operação de fatiamento no DataFrame 'df_avaliacao'.\n",
        "# Fatiamento é uma técnica usada para selecionar uma faixa contínua de linhas de um DataFrame.\n",
        "\n",
        "# O comando 'df_avaliacao[5:10]' seleciona as linhas do DataFrame 'df_avaliacao'\n",
        "# começando da linha de índice 5 até, mas não incluindo, a linha de índice 10.\n",
        "# Em outras palavras, ele retorna as linhas de índice 5, 6, 7, 8 e 9.\n",
        "\n",
        "df_diariobordo[5:10]\n",
        "\n",
        "# Resultado esperado:\n",
        "# A execução deste comando irá produzir uma saída similar à seguinte, considerando\n",
        "# que 'df_avaliacao' tem dados e colunas como 'id', 'nota1', 'nota2', 'nota3', 'nota4', 'fk_aluno_id\n"
      ]
    },
    {
      "cell_type": "code",
      "execution_count": 262,
      "metadata": {
        "id": "X168iS-21WU4",
        "vscode": {
          "languageId": "sql"
        }
      },
      "outputs": [
        {
          "ename": "IndentationError",
          "evalue": "unindent does not match any outer indentation level (<string>, line 6)",
          "output_type": "error",
          "traceback": [
            "\u001b[1;36m  File \u001b[1;32m<string>:6\u001b[1;36m\u001b[0m\n\u001b[1;33m    a.ra\u001b[0m\n\u001b[1;37m        ^\u001b[0m\n\u001b[1;31mIndentationError\u001b[0m\u001b[1;31m:\u001b[0m unindent does not match any outer indentation level\n"
          ]
        }
      ],
      "source": [
        "-- JOIN IN PANDAS\n",
        "-- Consulta realizada\n",
        "\n",
        "SELECT\n",
        "\td.texto,\n",
        "    a.ra\n",
        "    FROM\n",
        "    diariobordo d\n",
        "\tJOIN\n",
        "\taluno a\n",
        "    ON d.fk_aluno_id = a.id;\n",
        "\n",
        "    /*\n",
        "    `VAMOS FAZER UM JOIN?`\n",
        "\n",
        "#### Passos para o 'Merge\n",
        "- Use o comando 'merge'\n",
        "- Crie uma variável 'resultado'\n",
        "- pd.merge(dataframe1,dataframe2,tipo_união,qual chave da esquerda, qual chave da direita) = resultado = pd.merge(df_diariobordo,df_alunos, how='left', left_on='fk_aluno_id', right_on='id')\n",
        "- qual o tipo de união: how='inner'\n",
        "- Inner significa que queremos um join interno, o que resulta em apenas as linha que tem corcorrespondencia em ambos os dataframes.\n",
        "/*"
      ]
    },
    {
      "cell_type": "code",
      "execution_count": null,
      "metadata": {
        "id": "rZzKBJhT1WU5"
      },
      "outputs": [
        {
          "ename": "KeyError",
          "evalue": "'fk_aluno_id'",
          "output_type": "error",
          "traceback": [
            "\u001b[1;31m---------------------------------------------------------------------------\u001b[0m",
            "\u001b[1;31mKeyError\u001b[0m                                  Traceback (most recent call last)",
            "\u001b[1;32m~\\AppData\\Local\\Temp\\ipykernel_12236\\2524640168.py\u001b[0m in \u001b[0;36m?\u001b[1;34m()\u001b[0m\n\u001b[0;32m      6\u001b[0m \u001b[1;33m\u001b[0m\u001b[0m\n\u001b[0;32m      7\u001b[0m \u001b[1;31m# 'left_on' especifica a coluna no DataFrame da esquerda (df_diariobordo) que será usada como chave de junção.\u001b[0m\u001b[1;33m\u001b[0m\u001b[1;33m\u001b[0m\u001b[0m\n\u001b[0;32m      8\u001b[0m \u001b[1;31m# 'right_on' especifica a coluna no DataFrame da direita (df_alunos) que será usada como chave de junção.\u001b[0m\u001b[1;33m\u001b[0m\u001b[1;33m\u001b[0m\u001b[0m\n\u001b[0;32m      9\u001b[0m \u001b[1;31m# Aqui, estamos unindo com base na chave estrangeira 'fk_aluno_id' de 'df_diariobordo' e 'id' de 'df_alunos'.\u001b[0m\u001b[1;33m\u001b[0m\u001b[1;33m\u001b[0m\u001b[0m\n\u001b[1;32m---> 10\u001b[1;33m \u001b[0mresultado\u001b[0m \u001b[1;33m=\u001b[0m \u001b[0mpd\u001b[0m\u001b[1;33m.\u001b[0m\u001b[0mmerge\u001b[0m\u001b[1;33m(\u001b[0m\u001b[0mdf_diariobordo\u001b[0m\u001b[1;33m,\u001b[0m \u001b[0mdf_alunos\u001b[0m\u001b[1;33m,\u001b[0m \u001b[0mhow\u001b[0m\u001b[1;33m=\u001b[0m\u001b[1;34m'left'\u001b[0m\u001b[1;33m,\u001b[0m \u001b[0mleft_on\u001b[0m\u001b[1;33m=\u001b[0m\u001b[1;34m'fk_aluno_id'\u001b[0m\u001b[1;33m,\u001b[0m \u001b[0mright_on\u001b[0m\u001b[1;33m=\u001b[0m\u001b[1;34m'id'\u001b[0m\u001b[1;33m)\u001b[0m\u001b[1;33m\u001b[0m\u001b[1;33m\u001b[0m\u001b[0m\n\u001b[0m",
            "\u001b[1;32mc:\\Users\\ead\\Desktop\\projetofinal_tarde\\.venv\\Lib\\site-packages\\pandas\\core\\reshape\\merge.py\u001b[0m in \u001b[0;36m?\u001b[1;34m(left, right, how, on, left_on, right_on, left_index, right_index, sort, suffixes, copy, indicator, validate)\u001b[0m\n\u001b[0;32m    166\u001b[0m             \u001b[0mvalidate\u001b[0m\u001b[1;33m=\u001b[0m\u001b[0mvalidate\u001b[0m\u001b[1;33m,\u001b[0m\u001b[1;33m\u001b[0m\u001b[1;33m\u001b[0m\u001b[0m\n\u001b[0;32m    167\u001b[0m             \u001b[0mcopy\u001b[0m\u001b[1;33m=\u001b[0m\u001b[0mcopy\u001b[0m\u001b[1;33m,\u001b[0m\u001b[1;33m\u001b[0m\u001b[1;33m\u001b[0m\u001b[0m\n\u001b[0;32m    168\u001b[0m         \u001b[1;33m)\u001b[0m\u001b[1;33m\u001b[0m\u001b[1;33m\u001b[0m\u001b[0m\n\u001b[0;32m    169\u001b[0m     \u001b[1;32melse\u001b[0m\u001b[1;33m:\u001b[0m\u001b[1;33m\u001b[0m\u001b[1;33m\u001b[0m\u001b[0m\n\u001b[1;32m--> 170\u001b[1;33m         op = _MergeOperation(\n\u001b[0m\u001b[0;32m    171\u001b[0m             \u001b[0mleft_df\u001b[0m\u001b[1;33m,\u001b[0m\u001b[1;33m\u001b[0m\u001b[1;33m\u001b[0m\u001b[0m\n\u001b[0;32m    172\u001b[0m             \u001b[0mright_df\u001b[0m\u001b[1;33m,\u001b[0m\u001b[1;33m\u001b[0m\u001b[1;33m\u001b[0m\u001b[0m\n\u001b[0;32m    173\u001b[0m             \u001b[0mhow\u001b[0m\u001b[1;33m=\u001b[0m\u001b[0mhow\u001b[0m\u001b[1;33m,\u001b[0m\u001b[1;33m\u001b[0m\u001b[1;33m\u001b[0m\u001b[0m\n",
            "\u001b[1;32mc:\\Users\\ead\\Desktop\\projetofinal_tarde\\.venv\\Lib\\site-packages\\pandas\\core\\reshape\\merge.py\u001b[0m in \u001b[0;36m?\u001b[1;34m(self, left, right, how, on, left_on, right_on, left_index, right_index, sort, suffixes, indicator, validate)\u001b[0m\n\u001b[0;32m    790\u001b[0m             \u001b[0mself\u001b[0m\u001b[1;33m.\u001b[0m\u001b[0mright_join_keys\u001b[0m\u001b[1;33m,\u001b[0m\u001b[1;33m\u001b[0m\u001b[1;33m\u001b[0m\u001b[0m\n\u001b[0;32m    791\u001b[0m             \u001b[0mself\u001b[0m\u001b[1;33m.\u001b[0m\u001b[0mjoin_names\u001b[0m\u001b[1;33m,\u001b[0m\u001b[1;33m\u001b[0m\u001b[1;33m\u001b[0m\u001b[0m\n\u001b[0;32m    792\u001b[0m             \u001b[0mleft_drop\u001b[0m\u001b[1;33m,\u001b[0m\u001b[1;33m\u001b[0m\u001b[1;33m\u001b[0m\u001b[0m\n\u001b[0;32m    793\u001b[0m             \u001b[0mright_drop\u001b[0m\u001b[1;33m,\u001b[0m\u001b[1;33m\u001b[0m\u001b[1;33m\u001b[0m\u001b[0m\n\u001b[1;32m--> 794\u001b[1;33m         \u001b[1;33m)\u001b[0m \u001b[1;33m=\u001b[0m \u001b[0mself\u001b[0m\u001b[1;33m.\u001b[0m\u001b[0m_get_merge_keys\u001b[0m\u001b[1;33m(\u001b[0m\u001b[1;33m)\u001b[0m\u001b[1;33m\u001b[0m\u001b[1;33m\u001b[0m\u001b[0m\n\u001b[0m\u001b[0;32m    795\u001b[0m \u001b[1;33m\u001b[0m\u001b[0m\n\u001b[0;32m    796\u001b[0m         \u001b[1;32mif\u001b[0m \u001b[0mleft_drop\u001b[0m\u001b[1;33m:\u001b[0m\u001b[1;33m\u001b[0m\u001b[1;33m\u001b[0m\u001b[0m\n\u001b[0;32m    797\u001b[0m             \u001b[0mself\u001b[0m\u001b[1;33m.\u001b[0m\u001b[0mleft\u001b[0m \u001b[1;33m=\u001b[0m \u001b[0mself\u001b[0m\u001b[1;33m.\u001b[0m\u001b[0mleft\u001b[0m\u001b[1;33m.\u001b[0m\u001b[0m_drop_labels_or_levels\u001b[0m\u001b[1;33m(\u001b[0m\u001b[0mleft_drop\u001b[0m\u001b[1;33m)\u001b[0m\u001b[1;33m\u001b[0m\u001b[1;33m\u001b[0m\u001b[0m\n",
            "\u001b[1;32mc:\\Users\\ead\\Desktop\\projetofinal_tarde\\.venv\\Lib\\site-packages\\pandas\\core\\reshape\\merge.py\u001b[0m in \u001b[0;36m?\u001b[1;34m(self)\u001b[0m\n\u001b[0;32m   1306\u001b[0m                     \u001b[1;32mif\u001b[0m \u001b[0mlk\u001b[0m \u001b[1;32mis\u001b[0m \u001b[1;32mnot\u001b[0m \u001b[1;32mNone\u001b[0m\u001b[1;33m:\u001b[0m\u001b[1;33m\u001b[0m\u001b[1;33m\u001b[0m\u001b[0m\n\u001b[0;32m   1307\u001b[0m                         \u001b[1;31m# Then we're either Hashable or a wrong-length arraylike,\u001b[0m\u001b[1;33m\u001b[0m\u001b[1;33m\u001b[0m\u001b[0m\n\u001b[0;32m   1308\u001b[0m                         \u001b[1;31m#  the latter of which will raise\u001b[0m\u001b[1;33m\u001b[0m\u001b[1;33m\u001b[0m\u001b[0m\n\u001b[0;32m   1309\u001b[0m                         \u001b[0mlk\u001b[0m \u001b[1;33m=\u001b[0m \u001b[0mcast\u001b[0m\u001b[1;33m(\u001b[0m\u001b[0mHashable\u001b[0m\u001b[1;33m,\u001b[0m \u001b[0mlk\u001b[0m\u001b[1;33m)\u001b[0m\u001b[1;33m\u001b[0m\u001b[1;33m\u001b[0m\u001b[0m\n\u001b[1;32m-> 1310\u001b[1;33m                         \u001b[0mleft_keys\u001b[0m\u001b[1;33m.\u001b[0m\u001b[0mappend\u001b[0m\u001b[1;33m(\u001b[0m\u001b[0mleft\u001b[0m\u001b[1;33m.\u001b[0m\u001b[0m_get_label_or_level_values\u001b[0m\u001b[1;33m(\u001b[0m\u001b[0mlk\u001b[0m\u001b[1;33m)\u001b[0m\u001b[1;33m)\u001b[0m\u001b[1;33m\u001b[0m\u001b[1;33m\u001b[0m\u001b[0m\n\u001b[0m\u001b[0;32m   1311\u001b[0m                         \u001b[0mjoin_names\u001b[0m\u001b[1;33m.\u001b[0m\u001b[0mappend\u001b[0m\u001b[1;33m(\u001b[0m\u001b[0mlk\u001b[0m\u001b[1;33m)\u001b[0m\u001b[1;33m\u001b[0m\u001b[1;33m\u001b[0m\u001b[0m\n\u001b[0;32m   1312\u001b[0m                     \u001b[1;32melse\u001b[0m\u001b[1;33m:\u001b[0m\u001b[1;33m\u001b[0m\u001b[1;33m\u001b[0m\u001b[0m\n\u001b[0;32m   1313\u001b[0m                         \u001b[1;31m# work-around for merge_asof(left_index=True)\u001b[0m\u001b[1;33m\u001b[0m\u001b[1;33m\u001b[0m\u001b[0m\n",
            "\u001b[1;32mc:\\Users\\ead\\Desktop\\projetofinal_tarde\\.venv\\Lib\\site-packages\\pandas\\core\\generic.py\u001b[0m in \u001b[0;36m?\u001b[1;34m(self, key, axis)\u001b[0m\n\u001b[0;32m   1907\u001b[0m             \u001b[0mvalues\u001b[0m \u001b[1;33m=\u001b[0m \u001b[0mself\u001b[0m\u001b[1;33m.\u001b[0m\u001b[0mxs\u001b[0m\u001b[1;33m(\u001b[0m\u001b[0mkey\u001b[0m\u001b[1;33m,\u001b[0m \u001b[0maxis\u001b[0m\u001b[1;33m=\u001b[0m\u001b[0mother_axes\u001b[0m\u001b[1;33m[\u001b[0m\u001b[1;36m0\u001b[0m\u001b[1;33m]\u001b[0m\u001b[1;33m)\u001b[0m\u001b[1;33m.\u001b[0m\u001b[0m_values\u001b[0m\u001b[1;33m\u001b[0m\u001b[1;33m\u001b[0m\u001b[0m\n\u001b[0;32m   1908\u001b[0m         \u001b[1;32melif\u001b[0m \u001b[0mself\u001b[0m\u001b[1;33m.\u001b[0m\u001b[0m_is_level_reference\u001b[0m\u001b[1;33m(\u001b[0m\u001b[0mkey\u001b[0m\u001b[1;33m,\u001b[0m \u001b[0maxis\u001b[0m\u001b[1;33m=\u001b[0m\u001b[0maxis\u001b[0m\u001b[1;33m)\u001b[0m\u001b[1;33m:\u001b[0m\u001b[1;33m\u001b[0m\u001b[1;33m\u001b[0m\u001b[0m\n\u001b[0;32m   1909\u001b[0m             \u001b[0mvalues\u001b[0m \u001b[1;33m=\u001b[0m \u001b[0mself\u001b[0m\u001b[1;33m.\u001b[0m\u001b[0maxes\u001b[0m\u001b[1;33m[\u001b[0m\u001b[0maxis\u001b[0m\u001b[1;33m]\u001b[0m\u001b[1;33m.\u001b[0m\u001b[0mget_level_values\u001b[0m\u001b[1;33m(\u001b[0m\u001b[0mkey\u001b[0m\u001b[1;33m)\u001b[0m\u001b[1;33m.\u001b[0m\u001b[0m_values\u001b[0m\u001b[1;33m\u001b[0m\u001b[1;33m\u001b[0m\u001b[0m\n\u001b[0;32m   1910\u001b[0m         \u001b[1;32melse\u001b[0m\u001b[1;33m:\u001b[0m\u001b[1;33m\u001b[0m\u001b[1;33m\u001b[0m\u001b[0m\n\u001b[1;32m-> 1911\u001b[1;33m             \u001b[1;32mraise\u001b[0m \u001b[0mKeyError\u001b[0m\u001b[1;33m(\u001b[0m\u001b[0mkey\u001b[0m\u001b[1;33m)\u001b[0m\u001b[1;33m\u001b[0m\u001b[1;33m\u001b[0m\u001b[0m\n\u001b[0m\u001b[0;32m   1912\u001b[0m \u001b[1;33m\u001b[0m\u001b[0m\n\u001b[0;32m   1913\u001b[0m         \u001b[1;31m# Check for duplicates\u001b[0m\u001b[1;33m\u001b[0m\u001b[1;33m\u001b[0m\u001b[0m\n\u001b[0;32m   1914\u001b[0m         \u001b[1;32mif\u001b[0m \u001b[0mvalues\u001b[0m\u001b[1;33m.\u001b[0m\u001b[0mndim\u001b[0m \u001b[1;33m>\u001b[0m \u001b[1;36m1\u001b[0m\u001b[1;33m:\u001b[0m\u001b[1;33m\u001b[0m\u001b[1;33m\u001b[0m\u001b[0m\n",
            "\u001b[1;31mKeyError\u001b[0m: 'fk_aluno_id'"
          ]
        }
      ],
      "source": [
        "# EXEMPLO DE JOIN\n",
        "\n",
        "# O método pd.merge() é usado para combinar dois DataFrames com base em uma ou mais colunas chave.\n",
        "# Aqui, estamos combinando 'df_diariobordo' e 'df_alunos' usando um 'left join'.\n",
        "# 'left join' significa que todas as linhas do DataFrame 'df_diariobordo' serão mantidas e os dados correspondentes do DataFrame 'df_alunos' serão adicionados com base na chave de junção.\n",
        "\n",
        "# 'left_on' especifica a coluna no DataFrame da esquerda (df_diariobordo) que será usada como chave de junção.\n",
        "# 'right_on' especifica a coluna no DataFrame da direita (df_alunos) que será usada como chave de junção.\n",
        "# Aqui, estamos unindo com base na chave estrangeira 'fk_aluno_id' de 'df_diariobordo' e 'id' de 'df_alunos'.\n",
        "resultado = pd.merge(df_diariobordo, df_alunos, how='left', left_on='fk_aluno_id', right_on='id')"
      ]
    },
    {
      "cell_type": "code",
      "execution_count": null,
      "metadata": {
        "id": "j_hw1lOs1WU5"
      },
      "outputs": [
        {
          "ename": "NameError",
          "evalue": "name 'resultado' is not defined",
          "output_type": "error",
          "traceback": [
            "\u001b[1;31m---------------------------------------------------------------------------\u001b[0m",
            "\u001b[1;31mNameError\u001b[0m                                 Traceback (most recent call last)",
            "Cell \u001b[1;32mIn[38], line 4\u001b[0m\n\u001b[0;32m      1\u001b[0m \u001b[38;5;66;03m# Selecionar as colunas desejadas\u001b[39;00m\n\u001b[0;32m      2\u001b[0m \u001b[38;5;66;03m# Após a junção, o DataFrame 'resultado' terá todas as colunas de ambos os DataFrames.\u001b[39;00m\n\u001b[0;32m      3\u001b[0m \u001b[38;5;66;03m# Aqui, estamos selecionando apenas as colunas 'texto', 'datahora' de 'df_diariobordo' e 'ra' de 'df_alunos' para simplificar a visualização.\u001b[39;00m\n\u001b[1;32m----> 4\u001b[0m resultado_selecionado \u001b[38;5;241m=\u001b[39m \u001b[43mresultado\u001b[49m[[\u001b[38;5;124m'\u001b[39m\u001b[38;5;124mtexto\u001b[39m\u001b[38;5;124m'\u001b[39m, \u001b[38;5;124m'\u001b[39m\u001b[38;5;124mdatahora\u001b[39m\u001b[38;5;124m'\u001b[39m, \u001b[38;5;124m'\u001b[39m\u001b[38;5;124mra\u001b[39m\u001b[38;5;124m'\u001b[39m]]\n",
            "\u001b[1;31mNameError\u001b[0m: name 'resultado' is not defined"
          ]
        }
      ],
      "source": [
        "# Selecionar as colunas desejadas\n",
        "# Após a junção, o DataFrame 'resultado' terá todas as colunas de ambos os DataFrames.\n",
        "# Aqui, estamos selecionando apenas as colunas 'texto', 'datahora' de 'df_diariobordo' e 'ra' de 'df_alunos' para simplificar a visualização.\n",
        "resultado_selecionado = resultado[['texto', 'datahora', 'ra']]"
      ]
    },
    {
      "cell_type": "code",
      "execution_count": null,
      "metadata": {
        "id": "W5AZiL7Y1WU5",
        "outputId": "38f170b3-7006-4afd-c3cf-72c8c9e5cfc1"
      },
      "outputs": [],
      "source": [
        "# Mostrar o resultado\n",
        "# Exibe as primeiras linhas do DataFrame resultante 'resultado_selecionado' para ver a saída da junção.\n",
        "resultado_selecionado.head()"
      ]
    },
    {
      "cell_type": "code",
      "execution_count": null,
      "metadata": {
        "id": "4ndxhojC1WU5"
      },
      "outputs": [],
      "source": [
        "# Exercicio Avaliativo - Criar a Junção do Dataframe 'df_aluno' com o DataFrame 'df_avaliacao'. Apresentando as notas e o RA do Aluno ao final.\n",
        "\n",
        "# DataFrame 'aluno' = df_alunos | DataFrame 'avaliacao' = df_avaliacao\n",
        "\n",
        "# Realizar a junção (join) que será feita usando a coluna 'id' de 'df_alunos' e a coluna 'fk_aluno_id' de 'df_avaliacao'\n",
        "resultado = pd.merge(df_avaliacao, df_alunos, how='inner', left_on='fk_aluno_id', right_on='id')"
      ]
    },
    {
      "cell_type": "code",
      "execution_count": null,
      "metadata": {
        "id": "k2rII0CE1WU5"
      },
      "outputs": [],
      "source": [
        "# Selecionar as colunas desejadas: RA e notas\n",
        "resultado_exercicio = resultado[['nota1', 'nota2', 'nota3', 'nota4', 'ra']]"
      ]
    },
    {
      "cell_type": "code",
      "execution_count": null,
      "metadata": {
        "id": "WE7sUz_D1WU5",
        "outputId": "edf1de56-72ee-409c-f580-7e5c568d04ce"
      },
      "outputs": [],
      "source": [
        "# Mostrar o resultado\n",
        "resultado_selecionado.head(20)"
      ]
    },
    {
      "cell_type": "markdown",
      "metadata": {},
      "source": [
        "# Web Scraping (raspagem de dados)"
      ]
    },
    {
      "cell_type": "code",
      "execution_count": null,
      "metadata": {},
      "outputs": [
        {
          "name": "stdout",
          "output_type": "stream",
          "text": [
            "Requirement already satisfied: lxml in c:\\users\\ead\\desktop\\projetofinal_tarde\\.venv\\lib\\site-packages (5.2.2)\n"
          ]
        }
      ],
      "source": [
        "! pip install lxml"
      ]
    },
    {
      "cell_type": "code",
      "execution_count": null,
      "metadata": {},
      "outputs": [
        {
          "name": "stdout",
          "output_type": "stream",
          "text": [
            "Collecting html5lib\n",
            "  Downloading html5lib-1.1-py2.py3-none-any.whl.metadata (16 kB)\n",
            "Requirement already satisfied: six>=1.9 in c:\\users\\ead\\desktop\\projetofinal_tarde\\.venv\\lib\\site-packages (from html5lib) (1.16.0)\n",
            "Collecting webencodings (from html5lib)\n",
            "  Using cached webencodings-0.5.1-py2.py3-none-any.whl.metadata (2.1 kB)\n",
            "Downloading html5lib-1.1-py2.py3-none-any.whl (112 kB)\n",
            "Using cached webencodings-0.5.1-py2.py3-none-any.whl (11 kB)\n",
            "Installing collected packages: webencodings, html5lib\n",
            "Successfully installed html5lib-1.1 webencodings-0.5.1\n"
          ]
        }
      ],
      "source": [
        "! pip install html5lib"
      ]
    },
    {
      "cell_type": "code",
      "execution_count": null,
      "metadata": {},
      "outputs": [
        {
          "name": "stderr",
          "output_type": "stream",
          "text": [
            "ERROR: unknown command \"instal\" - maybe you meant \"install\"\n",
            "\n"
          ]
        }
      ],
      "source": [
        "! pip instal beautifulsound4"
      ]
    },
    {
      "cell_type": "code",
      "execution_count": null,
      "metadata": {},
      "outputs": [
        {
          "data": {
            "text/plain": [
              "[                 classificação\n",
              " 0               1° BotafogoBOT\n",
              " 1               2° FlamengoFLA\n",
              " 2              3° FortalezaFOR\n",
              " 3              4° PalmeirasPAL\n",
              " 4               5° CruzeiroCRU\n",
              " 5              6° São PauloSPA\n",
              " 6                  7° BahiaBAH\n",
              " 7              8° AthleticoCAP\n",
              " 8            9° Atlético-MGCAM\n",
              " 9   10° Red Bull BragantinoBRG\n",
              " 10                11° VascoVAS\n",
              " 11             12° CriciúmaCRI\n",
              " 12            13° JuventudeJUV\n",
              " 13               14° GrêmioGRE\n",
              " 14              15° VitóriaVIT\n",
              " 15        16° InternacionalINT\n",
              " 16           17° FluminenseFLU\n",
              " 17          18° CorinthiansCOR\n",
              " 18               19° CuiabáCUI\n",
              " 19          20° Atlético-GOACG,\n",
              "     PG   J   V  E   D  GC  GP  SG   %\n",
              " 0   43  21  13  4   4  20  35  15  68\n",
              " 1   40  20  12  4   4  20  34  14  67\n",
              " 2   39  20  11  6   3  19  26   7  65\n",
              " 3   37  21  11  4   6  17  28  11  59\n",
              " 4   35  20  11  2   7  22  29   7  58\n",
              " 5   35  21  10  5   6  21  29   8  56\n",
              " 6   32  21   9  5   7  25  29   4  51\n",
              " 7   28  19   8  4   7  20  22   2  49\n",
              " 8   28  19   7  7   5  28  28   0  49\n",
              " 9   26  19   7  5   7  23  24   1  46\n",
              " 10  24  20   7  3  10  31  22  -9  40\n",
              " 11  24  19   6  6   7  29  28  -1  42\n",
              " 12  22  19   5  7   7  25  21  -4  39\n",
              " 13  21  19   6  3  10  22  17  -5  37\n",
              " 14  21  21   6  3  12  32  23  -9  33\n",
              " 15  21  16   5  6   5  14  14   0  44\n",
              " 16  20  20   5  5  10  24  16  -8  33\n",
              " 17  20  21   4  8   9  28  19  -9  32\n",
              " 18  17  19   4  5  10  25  19  -6  30\n",
              " 19  12  21   2  6  13  35  17 -18  19,\n",
              "                                        classificação\n",
              " 0  {{team._index + 1}}° {{team.equipe['nome-comum...,\n",
              "             PG           J           V           E           D           GP  \\\n",
              " 0  {{team.pg}}  {{team.j}}  {{team.v}}  {{team.e}}  {{team.d}}  {{team.gp}}   \n",
              " \n",
              "             GC           SG            %  \\\n",
              " 0  {{team.gc}}  {{team.sg}}  {{team.ap}}   \n",
              " \n",
              "                                        Últimos jogos  \n",
              " 0  {{game.weekDay | uppercase}}, {{game.newDate}}...  ]"
            ]
          },
          "execution_count": 47,
          "metadata": {},
          "output_type": "execute_result"
        }
      ],
      "source": [
        "url = \"https://www.uol.com.br/esporte/futebol/campeonatos/brasileirao//\"\n",
        "tabela_seriea = pd.read_html(url)\n",
        "tabela_seriea"
      ]
    },
    {
      "cell_type": "code",
      "execution_count": null,
      "metadata": {},
      "outputs": [
        {
          "name": "stdout",
          "output_type": "stream",
          "text": [
            "<class 'list'>\n"
          ]
        }
      ],
      "source": [
        "print(type(tabela_seriea))"
      ]
    },
    {
      "cell_type": "code",
      "execution_count": null,
      "metadata": {},
      "outputs": [
        {
          "data": {
            "text/plain": [
              "[              IMC       Classificação\n",
              " 0  Menor que 18,5             Magreza\n",
              " 1     18,5 a 24,9              Normal\n",
              " 2       25 a 29,9           Sobrepeso\n",
              " 3       30 a 34,9    Obesidade grau I\n",
              " 4       35 a 39,9   Obesidade grau II\n",
              " 5    Maior que 40  Obesidade grau III]"
            ]
          },
          "execution_count": 51,
          "metadata": {},
          "output_type": "execute_result"
        }
      ],
      "source": [
        "url = \"https://www.tuasaude.com/calculadora/imc/\"\n",
        "tables = pd.read_html(url)\n",
        "tables"
      ]
    },
    {
      "cell_type": "code",
      "execution_count": null,
      "metadata": {},
      "outputs": [
        {
          "data": {
            "text/html": [
              "<div>\n",
              "<style scoped>\n",
              "    .dataframe tbody tr th:only-of-type {\n",
              "        vertical-align: middle;\n",
              "    }\n",
              "\n",
              "    .dataframe tbody tr th {\n",
              "        vertical-align: top;\n",
              "    }\n",
              "\n",
              "    .dataframe thead th {\n",
              "        text-align: right;\n",
              "    }\n",
              "</style>\n",
              "<table border=\"1\" class=\"dataframe\">\n",
              "  <thead>\n",
              "    <tr style=\"text-align: right;\">\n",
              "      <th></th>\n",
              "      <th>classificação</th>\n",
              "    </tr>\n",
              "  </thead>\n",
              "  <tbody>\n",
              "    <tr>\n",
              "      <th>0</th>\n",
              "      <td>1° BotafogoBOT</td>\n",
              "    </tr>\n",
              "    <tr>\n",
              "      <th>1</th>\n",
              "      <td>2° FlamengoFLA</td>\n",
              "    </tr>\n",
              "    <tr>\n",
              "      <th>2</th>\n",
              "      <td>3° FortalezaFOR</td>\n",
              "    </tr>\n",
              "    <tr>\n",
              "      <th>3</th>\n",
              "      <td>4° PalmeirasPAL</td>\n",
              "    </tr>\n",
              "    <tr>\n",
              "      <th>4</th>\n",
              "      <td>5° CruzeiroCRU</td>\n",
              "    </tr>\n",
              "    <tr>\n",
              "      <th>5</th>\n",
              "      <td>6° São PauloSPA</td>\n",
              "    </tr>\n",
              "    <tr>\n",
              "      <th>6</th>\n",
              "      <td>7° BahiaBAH</td>\n",
              "    </tr>\n",
              "    <tr>\n",
              "      <th>7</th>\n",
              "      <td>8° AthleticoCAP</td>\n",
              "    </tr>\n",
              "    <tr>\n",
              "      <th>8</th>\n",
              "      <td>9° Atlético-MGCAM</td>\n",
              "    </tr>\n",
              "    <tr>\n",
              "      <th>9</th>\n",
              "      <td>10° Red Bull BragantinoBRG</td>\n",
              "    </tr>\n",
              "    <tr>\n",
              "      <th>10</th>\n",
              "      <td>11° VascoVAS</td>\n",
              "    </tr>\n",
              "    <tr>\n",
              "      <th>11</th>\n",
              "      <td>12° CriciúmaCRI</td>\n",
              "    </tr>\n",
              "    <tr>\n",
              "      <th>12</th>\n",
              "      <td>13° JuventudeJUV</td>\n",
              "    </tr>\n",
              "    <tr>\n",
              "      <th>13</th>\n",
              "      <td>14° GrêmioGRE</td>\n",
              "    </tr>\n",
              "    <tr>\n",
              "      <th>14</th>\n",
              "      <td>15° VitóriaVIT</td>\n",
              "    </tr>\n",
              "    <tr>\n",
              "      <th>15</th>\n",
              "      <td>16° InternacionalINT</td>\n",
              "    </tr>\n",
              "    <tr>\n",
              "      <th>16</th>\n",
              "      <td>17° FluminenseFLU</td>\n",
              "    </tr>\n",
              "    <tr>\n",
              "      <th>17</th>\n",
              "      <td>18° CorinthiansCOR</td>\n",
              "    </tr>\n",
              "    <tr>\n",
              "      <th>18</th>\n",
              "      <td>19° CuiabáCUI</td>\n",
              "    </tr>\n",
              "    <tr>\n",
              "      <th>19</th>\n",
              "      <td>20° Atlético-GOACG</td>\n",
              "    </tr>\n",
              "  </tbody>\n",
              "</table>\n",
              "</div>"
            ],
            "text/plain": [
              "                 classificação\n",
              "0               1° BotafogoBOT\n",
              "1               2° FlamengoFLA\n",
              "2              3° FortalezaFOR\n",
              "3              4° PalmeirasPAL\n",
              "4               5° CruzeiroCRU\n",
              "5              6° São PauloSPA\n",
              "6                  7° BahiaBAH\n",
              "7              8° AthleticoCAP\n",
              "8            9° Atlético-MGCAM\n",
              "9   10° Red Bull BragantinoBRG\n",
              "10                11° VascoVAS\n",
              "11             12° CriciúmaCRI\n",
              "12            13° JuventudeJUV\n",
              "13               14° GrêmioGRE\n",
              "14              15° VitóriaVIT\n",
              "15        16° InternacionalINT\n",
              "16           17° FluminenseFLU\n",
              "17          18° CorinthiansCOR\n",
              "18               19° CuiabáCUI\n",
              "19          20° Atlético-GOACG"
            ]
          },
          "metadata": {},
          "output_type": "display_data"
        },
        {
          "data": {
            "text/plain": [
              "pandas.core.frame.DataFrame"
            ]
          },
          "execution_count": 54,
          "metadata": {},
          "output_type": "execute_result"
        }
      ],
      "source": [
        "import pandas as pd\n",
        "\n",
        "url = 'https://www.uol.com.br/esporte/futebol/campeonatos/brasileirao/'\n",
        "tabelas = pd.read_html(url)\n",
        "\n",
        "tabela_brasileirao = tabelas[0]\n",
        "\n",
        "display(tabela_brasileirao)\n",
        "type"
      ]
    },
    {
      "cell_type": "code",
      "execution_count": null,
      "metadata": {},
      "outputs": [
        {
          "data": {
            "text/html": [
              "<div>\n",
              "<style scoped>\n",
              "    .dataframe tbody tr th:only-of-type {\n",
              "        vertical-align: middle;\n",
              "    }\n",
              "\n",
              "    .dataframe tbody tr th {\n",
              "        vertical-align: top;\n",
              "    }\n",
              "\n",
              "    .dataframe thead th {\n",
              "        text-align: right;\n",
              "    }\n",
              "</style>\n",
              "<table border=\"1\" class=\"dataframe\">\n",
              "  <thead>\n",
              "    <tr style=\"text-align: right;\">\n",
              "      <th></th>\n",
              "      <th>classificação</th>\n",
              "    </tr>\n",
              "  </thead>\n",
              "  <tbody>\n",
              "    <tr>\n",
              "      <th>0</th>\n",
              "      <td>1° BotafogoBOT</td>\n",
              "    </tr>\n",
              "    <tr>\n",
              "      <th>1</th>\n",
              "      <td>2° FlamengoFLA</td>\n",
              "    </tr>\n",
              "    <tr>\n",
              "      <th>2</th>\n",
              "      <td>3° FortalezaFOR</td>\n",
              "    </tr>\n",
              "    <tr>\n",
              "      <th>3</th>\n",
              "      <td>4° PalmeirasPAL</td>\n",
              "    </tr>\n",
              "    <tr>\n",
              "      <th>4</th>\n",
              "      <td>5° CruzeiroCRU</td>\n",
              "    </tr>\n",
              "  </tbody>\n",
              "</table>\n",
              "</div>"
            ],
            "text/plain": [
              "     classificação\n",
              "0   1° BotafogoBOT\n",
              "1   2° FlamengoFLA\n",
              "2  3° FortalezaFOR\n",
              "3  4° PalmeirasPAL\n",
              "4   5° CruzeiroCRU"
            ]
          },
          "execution_count": 55,
          "metadata": {},
          "output_type": "execute_result"
        }
      ],
      "source": [
        "tabela_brasileirao.head()"
      ]
    },
    {
      "cell_type": "code",
      "execution_count": null,
      "metadata": {},
      "outputs": [
        {
          "data": {
            "text/html": [
              "<div>\n",
              "<style scoped>\n",
              "    .dataframe tbody tr th:only-of-type {\n",
              "        vertical-align: middle;\n",
              "    }\n",
              "\n",
              "    .dataframe tbody tr th {\n",
              "        vertical-align: top;\n",
              "    }\n",
              "\n",
              "    .dataframe thead th {\n",
              "        text-align: right;\n",
              "    }\n",
              "</style>\n",
              "<table border=\"1\" class=\"dataframe\">\n",
              "  <thead>\n",
              "    <tr style=\"text-align: right;\">\n",
              "      <th></th>\n",
              "      <th>classificação</th>\n",
              "    </tr>\n",
              "  </thead>\n",
              "  <tbody>\n",
              "    <tr>\n",
              "      <th>15</th>\n",
              "      <td>16° InternacionalINT</td>\n",
              "    </tr>\n",
              "    <tr>\n",
              "      <th>16</th>\n",
              "      <td>17° FluminenseFLU</td>\n",
              "    </tr>\n",
              "    <tr>\n",
              "      <th>17</th>\n",
              "      <td>18° CorinthiansCOR</td>\n",
              "    </tr>\n",
              "    <tr>\n",
              "      <th>18</th>\n",
              "      <td>19° CuiabáCUI</td>\n",
              "    </tr>\n",
              "    <tr>\n",
              "      <th>19</th>\n",
              "      <td>20° Atlético-GOACG</td>\n",
              "    </tr>\n",
              "  </tbody>\n",
              "</table>\n",
              "</div>"
            ],
            "text/plain": [
              "           classificação\n",
              "15  16° InternacionalINT\n",
              "16     17° FluminenseFLU\n",
              "17    18° CorinthiansCOR\n",
              "18         19° CuiabáCUI\n",
              "19    20° Atlético-GOACG"
            ]
          },
          "execution_count": 56,
          "metadata": {},
          "output_type": "execute_result"
        }
      ],
      "source": [
        "tabela_brasileirao.tail()"
      ]
    },
    {
      "cell_type": "code",
      "execution_count": null,
      "metadata": {},
      "outputs": [
        {
          "data": {
            "text/plain": [
              "(20, 1)"
            ]
          },
          "execution_count": 58,
          "metadata": {},
          "output_type": "execute_result"
        }
      ],
      "source": [
        "tabela_brasileirao.shape"
      ]
    },
    {
      "cell_type": "code",
      "execution_count": null,
      "metadata": {},
      "outputs": [
        {
          "data": {
            "text/plain": [
              "[    Times  Times.1                  Times.2  Times.3   P   J   V  E   D  GP  \\\n",
              " 0       1      NaN              Botafogo >>   Subiu1  43  21  13  4   4  35   \n",
              " 1       2      NaN              Flamengo >>  Desceu1  40  20  12  4   4  34   \n",
              " 2       3      NaN             Fortaleza >>   Subiu1  39  20  11  6   3  26   \n",
              " 3       4      NaN             Palmeiras >>  Desceu1  37  21  11  4   6  28   \n",
              " 4       5      NaN              Cruzeiro >>      NaN  35  20  11  2   7  29   \n",
              " 5       6      NaN            SÃ£o Paulo >>      NaN  35  21  10  5   6  29   \n",
              " 6       7      NaN                 Bahia >>      NaN  32  21   9  5   7  29   \n",
              " 7       8      NaN          Athletico-PR >>      NaN  28  19   8  4   7  22   \n",
              " 8       9      NaN          AtlÃ©tico-MG >>      NaN  28  19   7  7   5  28   \n",
              " 9      10      NaN            Bragantino >>      NaN  26  19   7  5   7  24   \n",
              " 10     11      NaN         Vasco da Gama >>      NaN  24  20   7  3  10  22   \n",
              " 11     12      NaN             CriciÃºma >>      NaN  24  19   6  6   7  28   \n",
              " 12     13      NaN             Juventude >>      NaN  22  19   5  7   7  21   \n",
              " 13     14      NaN               GrÃªmio >>   Subiu2  21  19   6  3  10  17   \n",
              " 14     15      NaN              VitÃ³ria >>   Subiu2  21  21   6  3  12  23   \n",
              " 15     16      NaN         Internacional >>  Desceu2  21  16   5  6   5  14   \n",
              " 16     17      NaN            Fluminense >>   Subiu2  20  20   5  5  10  16   \n",
              " 17     18      NaN           Corinthians >>  Desceu3  20  21   4  8   9  19   \n",
              " 18     19      NaN               CuiabÃ¡ >>  Desceu1  17  19   4  5  10  19   \n",
              " 19     20      NaN  AtlÃ©tico Goianiense >>      NaN  12  21   2  6  13  17   \n",
              " \n",
              "     GC  SG   %  \n",
              " 0   20  15  68  \n",
              " 1   20  14  66  \n",
              " 2   19   7  65  \n",
              " 3   17  11  58  \n",
              " 4   22   7  58  \n",
              " 5   21   8  55  \n",
              " 6   25   4  50  \n",
              " 7   20   2  49  \n",
              " 8   28   0  49  \n",
              " 9   23   1  45  \n",
              " 10  31  -9  40  \n",
              " 11  29  -1  42  \n",
              " 12  25  -4  38  \n",
              " 13  22  -5  36  \n",
              " 14  32  -9  33  \n",
              " 15  14   0  43  \n",
              " 16  24  -8  33  \n",
              " 17  28  -9  31  \n",
              " 18  25  -6  29  \n",
              " 19  35 -18  19  ]"
            ]
          },
          "execution_count": 153,
          "metadata": {},
          "output_type": "execute_result"
        }
      ],
      "source": [
        "url = \"https://www.terra.com.br/esportes/futebol/brasileiro-serie-a/tabela/#google_vignette\"\n",
        "tabela_seriea = pd.read_html(url)\n",
        "tabela_seriea\n",
        "\n"
      ]
    },
    {
      "cell_type": "code",
      "execution_count": null,
      "metadata": {},
      "outputs": [
        {
          "name": "stdout",
          "output_type": "stream",
          "text": [
            "<class 'list'>\n"
          ]
        }
      ],
      "source": [
        "print(type(tabela_seriea))"
      ]
    },
    {
      "cell_type": "code",
      "execution_count": 265,
      "metadata": {},
      "outputs": [
        {
          "data": {
            "text/html": [
              "<div>\n",
              "<style scoped>\n",
              "    .dataframe tbody tr th:only-of-type {\n",
              "        vertical-align: middle;\n",
              "    }\n",
              "\n",
              "    .dataframe tbody tr th {\n",
              "        vertical-align: top;\n",
              "    }\n",
              "\n",
              "    .dataframe thead th {\n",
              "        text-align: right;\n",
              "    }\n",
              "</style>\n",
              "<table border=\"1\" class=\"dataframe\">\n",
              "  <thead>\n",
              "    <tr style=\"text-align: right;\">\n",
              "      <th></th>\n",
              "      <th>Times.2</th>\n",
              "      <th>P</th>\n",
              "      <th>J</th>\n",
              "      <th>V</th>\n",
              "      <th>E</th>\n",
              "      <th>D</th>\n",
              "      <th>GP</th>\n",
              "      <th>GC</th>\n",
              "      <th>SG</th>\n",
              "      <th>%</th>\n",
              "    </tr>\n",
              "  </thead>\n",
              "  <tbody>\n",
              "    <tr>\n",
              "      <th>0</th>\n",
              "      <td>Botafogo &gt;&gt;</td>\n",
              "      <td>43</td>\n",
              "      <td>21</td>\n",
              "      <td>13</td>\n",
              "      <td>4</td>\n",
              "      <td>4</td>\n",
              "      <td>35</td>\n",
              "      <td>20</td>\n",
              "      <td>15</td>\n",
              "      <td>68</td>\n",
              "    </tr>\n",
              "    <tr>\n",
              "      <th>1</th>\n",
              "      <td>Flamengo &gt;&gt;</td>\n",
              "      <td>40</td>\n",
              "      <td>20</td>\n",
              "      <td>12</td>\n",
              "      <td>4</td>\n",
              "      <td>4</td>\n",
              "      <td>34</td>\n",
              "      <td>20</td>\n",
              "      <td>14</td>\n",
              "      <td>66</td>\n",
              "    </tr>\n",
              "    <tr>\n",
              "      <th>2</th>\n",
              "      <td>Fortaleza &gt;&gt;</td>\n",
              "      <td>39</td>\n",
              "      <td>20</td>\n",
              "      <td>11</td>\n",
              "      <td>6</td>\n",
              "      <td>3</td>\n",
              "      <td>26</td>\n",
              "      <td>19</td>\n",
              "      <td>7</td>\n",
              "      <td>65</td>\n",
              "    </tr>\n",
              "    <tr>\n",
              "      <th>3</th>\n",
              "      <td>Palmeiras &gt;&gt;</td>\n",
              "      <td>37</td>\n",
              "      <td>21</td>\n",
              "      <td>11</td>\n",
              "      <td>4</td>\n",
              "      <td>6</td>\n",
              "      <td>28</td>\n",
              "      <td>17</td>\n",
              "      <td>11</td>\n",
              "      <td>58</td>\n",
              "    </tr>\n",
              "    <tr>\n",
              "      <th>4</th>\n",
              "      <td>Cruzeiro &gt;&gt;</td>\n",
              "      <td>35</td>\n",
              "      <td>20</td>\n",
              "      <td>11</td>\n",
              "      <td>2</td>\n",
              "      <td>7</td>\n",
              "      <td>29</td>\n",
              "      <td>22</td>\n",
              "      <td>7</td>\n",
              "      <td>58</td>\n",
              "    </tr>\n",
              "    <tr>\n",
              "      <th>5</th>\n",
              "      <td>SÃ£o Paulo &gt;&gt;</td>\n",
              "      <td>35</td>\n",
              "      <td>21</td>\n",
              "      <td>10</td>\n",
              "      <td>5</td>\n",
              "      <td>6</td>\n",
              "      <td>29</td>\n",
              "      <td>21</td>\n",
              "      <td>8</td>\n",
              "      <td>55</td>\n",
              "    </tr>\n",
              "    <tr>\n",
              "      <th>6</th>\n",
              "      <td>Bahia &gt;&gt;</td>\n",
              "      <td>32</td>\n",
              "      <td>21</td>\n",
              "      <td>9</td>\n",
              "      <td>5</td>\n",
              "      <td>7</td>\n",
              "      <td>29</td>\n",
              "      <td>25</td>\n",
              "      <td>4</td>\n",
              "      <td>50</td>\n",
              "    </tr>\n",
              "    <tr>\n",
              "      <th>7</th>\n",
              "      <td>Athletico-PR &gt;&gt;</td>\n",
              "      <td>28</td>\n",
              "      <td>19</td>\n",
              "      <td>8</td>\n",
              "      <td>4</td>\n",
              "      <td>7</td>\n",
              "      <td>22</td>\n",
              "      <td>20</td>\n",
              "      <td>2</td>\n",
              "      <td>49</td>\n",
              "    </tr>\n",
              "    <tr>\n",
              "      <th>8</th>\n",
              "      <td>AtlÃ©tico-MG &gt;&gt;</td>\n",
              "      <td>28</td>\n",
              "      <td>19</td>\n",
              "      <td>7</td>\n",
              "      <td>7</td>\n",
              "      <td>5</td>\n",
              "      <td>28</td>\n",
              "      <td>28</td>\n",
              "      <td>0</td>\n",
              "      <td>49</td>\n",
              "    </tr>\n",
              "    <tr>\n",
              "      <th>9</th>\n",
              "      <td>Bragantino &gt;&gt;</td>\n",
              "      <td>26</td>\n",
              "      <td>19</td>\n",
              "      <td>7</td>\n",
              "      <td>5</td>\n",
              "      <td>7</td>\n",
              "      <td>24</td>\n",
              "      <td>23</td>\n",
              "      <td>1</td>\n",
              "      <td>45</td>\n",
              "    </tr>\n",
              "    <tr>\n",
              "      <th>10</th>\n",
              "      <td>Vasco da Gama &gt;&gt;</td>\n",
              "      <td>24</td>\n",
              "      <td>20</td>\n",
              "      <td>7</td>\n",
              "      <td>3</td>\n",
              "      <td>10</td>\n",
              "      <td>22</td>\n",
              "      <td>31</td>\n",
              "      <td>-9</td>\n",
              "      <td>40</td>\n",
              "    </tr>\n",
              "    <tr>\n",
              "      <th>11</th>\n",
              "      <td>CriciÃºma &gt;&gt;</td>\n",
              "      <td>24</td>\n",
              "      <td>19</td>\n",
              "      <td>6</td>\n",
              "      <td>6</td>\n",
              "      <td>7</td>\n",
              "      <td>28</td>\n",
              "      <td>29</td>\n",
              "      <td>-1</td>\n",
              "      <td>42</td>\n",
              "    </tr>\n",
              "    <tr>\n",
              "      <th>12</th>\n",
              "      <td>Juventude &gt;&gt;</td>\n",
              "      <td>22</td>\n",
              "      <td>19</td>\n",
              "      <td>5</td>\n",
              "      <td>7</td>\n",
              "      <td>7</td>\n",
              "      <td>21</td>\n",
              "      <td>25</td>\n",
              "      <td>-4</td>\n",
              "      <td>38</td>\n",
              "    </tr>\n",
              "    <tr>\n",
              "      <th>13</th>\n",
              "      <td>GrÃªmio &gt;&gt;</td>\n",
              "      <td>21</td>\n",
              "      <td>19</td>\n",
              "      <td>6</td>\n",
              "      <td>3</td>\n",
              "      <td>10</td>\n",
              "      <td>17</td>\n",
              "      <td>22</td>\n",
              "      <td>-5</td>\n",
              "      <td>36</td>\n",
              "    </tr>\n",
              "    <tr>\n",
              "      <th>14</th>\n",
              "      <td>VitÃ³ria &gt;&gt;</td>\n",
              "      <td>21</td>\n",
              "      <td>21</td>\n",
              "      <td>6</td>\n",
              "      <td>3</td>\n",
              "      <td>12</td>\n",
              "      <td>23</td>\n",
              "      <td>32</td>\n",
              "      <td>-9</td>\n",
              "      <td>33</td>\n",
              "    </tr>\n",
              "    <tr>\n",
              "      <th>15</th>\n",
              "      <td>Internacional &gt;&gt;</td>\n",
              "      <td>21</td>\n",
              "      <td>16</td>\n",
              "      <td>5</td>\n",
              "      <td>6</td>\n",
              "      <td>5</td>\n",
              "      <td>14</td>\n",
              "      <td>14</td>\n",
              "      <td>0</td>\n",
              "      <td>43</td>\n",
              "    </tr>\n",
              "    <tr>\n",
              "      <th>16</th>\n",
              "      <td>Fluminense &gt;&gt;</td>\n",
              "      <td>20</td>\n",
              "      <td>20</td>\n",
              "      <td>5</td>\n",
              "      <td>5</td>\n",
              "      <td>10</td>\n",
              "      <td>16</td>\n",
              "      <td>24</td>\n",
              "      <td>-8</td>\n",
              "      <td>33</td>\n",
              "    </tr>\n",
              "    <tr>\n",
              "      <th>17</th>\n",
              "      <td>Corinthians &gt;&gt;</td>\n",
              "      <td>20</td>\n",
              "      <td>21</td>\n",
              "      <td>4</td>\n",
              "      <td>8</td>\n",
              "      <td>9</td>\n",
              "      <td>19</td>\n",
              "      <td>28</td>\n",
              "      <td>-9</td>\n",
              "      <td>31</td>\n",
              "    </tr>\n",
              "    <tr>\n",
              "      <th>18</th>\n",
              "      <td>CuiabÃ¡ &gt;&gt;</td>\n",
              "      <td>17</td>\n",
              "      <td>19</td>\n",
              "      <td>4</td>\n",
              "      <td>5</td>\n",
              "      <td>10</td>\n",
              "      <td>19</td>\n",
              "      <td>25</td>\n",
              "      <td>-6</td>\n",
              "      <td>29</td>\n",
              "    </tr>\n",
              "    <tr>\n",
              "      <th>19</th>\n",
              "      <td>AtlÃ©tico Goianiense &gt;&gt;</td>\n",
              "      <td>12</td>\n",
              "      <td>21</td>\n",
              "      <td>2</td>\n",
              "      <td>6</td>\n",
              "      <td>13</td>\n",
              "      <td>17</td>\n",
              "      <td>35</td>\n",
              "      <td>-18</td>\n",
              "      <td>19</td>\n",
              "    </tr>\n",
              "  </tbody>\n",
              "</table>\n",
              "</div>"
            ],
            "text/plain": [
              "                    Times.2   P   J   V  E   D  GP  GC  SG   %\n",
              "0               Botafogo >>  43  21  13  4   4  35  20  15  68\n",
              "1               Flamengo >>  40  20  12  4   4  34  20  14  66\n",
              "2              Fortaleza >>  39  20  11  6   3  26  19   7  65\n",
              "3              Palmeiras >>  37  21  11  4   6  28  17  11  58\n",
              "4               Cruzeiro >>  35  20  11  2   7  29  22   7  58\n",
              "5             SÃ£o Paulo >>  35  21  10  5   6  29  21   8  55\n",
              "6                  Bahia >>  32  21   9  5   7  29  25   4  50\n",
              "7           Athletico-PR >>  28  19   8  4   7  22  20   2  49\n",
              "8           AtlÃ©tico-MG >>  28  19   7  7   5  28  28   0  49\n",
              "9             Bragantino >>  26  19   7  5   7  24  23   1  45\n",
              "10         Vasco da Gama >>  24  20   7  3  10  22  31  -9  40\n",
              "11             CriciÃºma >>  24  19   6  6   7  28  29  -1  42\n",
              "12             Juventude >>  22  19   5  7   7  21  25  -4  38\n",
              "13               GrÃªmio >>  21  19   6  3  10  17  22  -5  36\n",
              "14              VitÃ³ria >>  21  21   6  3  12  23  32  -9  33\n",
              "15         Internacional >>  21  16   5  6   5  14  14   0  43\n",
              "16            Fluminense >>  20  20   5  5  10  16  24  -8  33\n",
              "17           Corinthians >>  20  21   4  8   9  19  28  -9  31\n",
              "18               CuiabÃ¡ >>  17  19   4  5  10  19  25  -6  29\n",
              "19  AtlÃ©tico Goianiense >>  12  21   2  6  13  17  35 -18  19"
            ]
          },
          "execution_count": 265,
          "metadata": {},
          "output_type": "execute_result"
        }
      ],
      "source": [
        "tabela_brasileirao = tabela_seriea[0]\n",
        "tabela_brasileirao"
      ]
    },
    {
      "cell_type": "code",
      "execution_count": 266,
      "metadata": {},
      "outputs": [
        {
          "data": {
            "text/plain": [
              "Index(['Times.2', 'P', 'J', 'V', 'E', 'D', 'GP', 'GC', 'SG', '%'], dtype='object')"
            ]
          },
          "execution_count": 266,
          "metadata": {},
          "output_type": "execute_result"
        }
      ],
      "source": [
        "tabela_brasileirao.columns"
      ]
    },
    {
      "cell_type": "code",
      "execution_count": 268,
      "metadata": {},
      "outputs": [
        {
          "data": {
            "text/plain": [
              "0                 Botafogo >>\n",
              "1                 Flamengo >>\n",
              "2                Fortaleza >>\n",
              "3                Palmeiras >>\n",
              "4                 Cruzeiro >>\n",
              "5               SÃ£o Paulo >>\n",
              "6                    Bahia >>\n",
              "7             Athletico-PR >>\n",
              "8             AtlÃ©tico-MG >>\n",
              "9               Bragantino >>\n",
              "10           Vasco da Gama >>\n",
              "11               CriciÃºma >>\n",
              "12               Juventude >>\n",
              "13                 GrÃªmio >>\n",
              "14                VitÃ³ria >>\n",
              "15           Internacional >>\n",
              "16              Fluminense >>\n",
              "17             Corinthians >>\n",
              "18                 CuiabÃ¡ >>\n",
              "19    AtlÃ©tico Goianiense >>\n",
              "Name: Times.2, dtype: object"
            ]
          },
          "execution_count": 268,
          "metadata": {},
          "output_type": "execute_result"
        }
      ],
      "source": [
        "tabela_brasileirao['Times.2']"
      ]
    },
    {
      "cell_type": "code",
      "execution_count": 269,
      "metadata": {},
      "outputs": [
        {
          "ename": "KeyError",
          "evalue": "\"['Times', 'Times.1', 'Times.3'] not found in axis\"",
          "output_type": "error",
          "traceback": [
            "\u001b[1;31m---------------------------------------------------------------------------\u001b[0m",
            "\u001b[1;31mKeyError\u001b[0m                                  Traceback (most recent call last)",
            "Cell \u001b[1;32mIn[269], line 1\u001b[0m\n\u001b[1;32m----> 1\u001b[0m tabela_brasileirao \u001b[38;5;241m=\u001b[39m \u001b[43mtabela_brasileirao\u001b[49m\u001b[38;5;241;43m.\u001b[39;49m\u001b[43mdrop\u001b[49m\u001b[43m(\u001b[49m\u001b[43mcolumns\u001b[49m\u001b[38;5;241;43m=\u001b[39;49m\u001b[43m[\u001b[49m\u001b[38;5;124;43m'\u001b[39;49m\u001b[38;5;124;43mTimes\u001b[39;49m\u001b[38;5;124;43m'\u001b[39;49m\u001b[43m,\u001b[49m\u001b[38;5;124;43m'\u001b[39;49m\u001b[38;5;124;43mTimes.1\u001b[39;49m\u001b[38;5;124;43m'\u001b[39;49m\u001b[43m,\u001b[49m\u001b[38;5;124;43m'\u001b[39;49m\u001b[38;5;124;43mTimes.3\u001b[39;49m\u001b[38;5;124;43m'\u001b[39;49m\u001b[43m]\u001b[49m\u001b[43m)\u001b[49m\n",
            "File \u001b[1;32mc:\\Users\\ead\\Desktop\\projetofinal_tarde\\.venv\\Lib\\site-packages\\pandas\\core\\frame.py:5581\u001b[0m, in \u001b[0;36mDataFrame.drop\u001b[1;34m(self, labels, axis, index, columns, level, inplace, errors)\u001b[0m\n\u001b[0;32m   5433\u001b[0m \u001b[38;5;28;01mdef\u001b[39;00m \u001b[38;5;21mdrop\u001b[39m(\n\u001b[0;32m   5434\u001b[0m     \u001b[38;5;28mself\u001b[39m,\n\u001b[0;32m   5435\u001b[0m     labels: IndexLabel \u001b[38;5;241m|\u001b[39m \u001b[38;5;28;01mNone\u001b[39;00m \u001b[38;5;241m=\u001b[39m \u001b[38;5;28;01mNone\u001b[39;00m,\n\u001b[1;32m   (...)\u001b[0m\n\u001b[0;32m   5442\u001b[0m     errors: IgnoreRaise \u001b[38;5;241m=\u001b[39m \u001b[38;5;124m\"\u001b[39m\u001b[38;5;124mraise\u001b[39m\u001b[38;5;124m\"\u001b[39m,\n\u001b[0;32m   5443\u001b[0m ) \u001b[38;5;241m-\u001b[39m\u001b[38;5;241m>\u001b[39m DataFrame \u001b[38;5;241m|\u001b[39m \u001b[38;5;28;01mNone\u001b[39;00m:\n\u001b[0;32m   5444\u001b[0m \u001b[38;5;250m    \u001b[39m\u001b[38;5;124;03m\"\"\"\u001b[39;00m\n\u001b[0;32m   5445\u001b[0m \u001b[38;5;124;03m    Drop specified labels from rows or columns.\u001b[39;00m\n\u001b[0;32m   5446\u001b[0m \n\u001b[1;32m   (...)\u001b[0m\n\u001b[0;32m   5579\u001b[0m \u001b[38;5;124;03m            weight  1.0     0.8\u001b[39;00m\n\u001b[0;32m   5580\u001b[0m \u001b[38;5;124;03m    \"\"\"\u001b[39;00m\n\u001b[1;32m-> 5581\u001b[0m     \u001b[38;5;28;01mreturn\u001b[39;00m \u001b[38;5;28;43msuper\u001b[39;49m\u001b[43m(\u001b[49m\u001b[43m)\u001b[49m\u001b[38;5;241;43m.\u001b[39;49m\u001b[43mdrop\u001b[49m\u001b[43m(\u001b[49m\n\u001b[0;32m   5582\u001b[0m \u001b[43m        \u001b[49m\u001b[43mlabels\u001b[49m\u001b[38;5;241;43m=\u001b[39;49m\u001b[43mlabels\u001b[49m\u001b[43m,\u001b[49m\n\u001b[0;32m   5583\u001b[0m \u001b[43m        \u001b[49m\u001b[43maxis\u001b[49m\u001b[38;5;241;43m=\u001b[39;49m\u001b[43maxis\u001b[49m\u001b[43m,\u001b[49m\n\u001b[0;32m   5584\u001b[0m \u001b[43m        \u001b[49m\u001b[43mindex\u001b[49m\u001b[38;5;241;43m=\u001b[39;49m\u001b[43mindex\u001b[49m\u001b[43m,\u001b[49m\n\u001b[0;32m   5585\u001b[0m \u001b[43m        \u001b[49m\u001b[43mcolumns\u001b[49m\u001b[38;5;241;43m=\u001b[39;49m\u001b[43mcolumns\u001b[49m\u001b[43m,\u001b[49m\n\u001b[0;32m   5586\u001b[0m \u001b[43m        \u001b[49m\u001b[43mlevel\u001b[49m\u001b[38;5;241;43m=\u001b[39;49m\u001b[43mlevel\u001b[49m\u001b[43m,\u001b[49m\n\u001b[0;32m   5587\u001b[0m \u001b[43m        \u001b[49m\u001b[43minplace\u001b[49m\u001b[38;5;241;43m=\u001b[39;49m\u001b[43minplace\u001b[49m\u001b[43m,\u001b[49m\n\u001b[0;32m   5588\u001b[0m \u001b[43m        \u001b[49m\u001b[43merrors\u001b[49m\u001b[38;5;241;43m=\u001b[39;49m\u001b[43merrors\u001b[49m\u001b[43m,\u001b[49m\n\u001b[0;32m   5589\u001b[0m \u001b[43m    \u001b[49m\u001b[43m)\u001b[49m\n",
            "File \u001b[1;32mc:\\Users\\ead\\Desktop\\projetofinal_tarde\\.venv\\Lib\\site-packages\\pandas\\core\\generic.py:4788\u001b[0m, in \u001b[0;36mNDFrame.drop\u001b[1;34m(self, labels, axis, index, columns, level, inplace, errors)\u001b[0m\n\u001b[0;32m   4786\u001b[0m \u001b[38;5;28;01mfor\u001b[39;00m axis, labels \u001b[38;5;129;01min\u001b[39;00m axes\u001b[38;5;241m.\u001b[39mitems():\n\u001b[0;32m   4787\u001b[0m     \u001b[38;5;28;01mif\u001b[39;00m labels \u001b[38;5;129;01mis\u001b[39;00m \u001b[38;5;129;01mnot\u001b[39;00m \u001b[38;5;28;01mNone\u001b[39;00m:\n\u001b[1;32m-> 4788\u001b[0m         obj \u001b[38;5;241m=\u001b[39m \u001b[43mobj\u001b[49m\u001b[38;5;241;43m.\u001b[39;49m\u001b[43m_drop_axis\u001b[49m\u001b[43m(\u001b[49m\u001b[43mlabels\u001b[49m\u001b[43m,\u001b[49m\u001b[43m \u001b[49m\u001b[43maxis\u001b[49m\u001b[43m,\u001b[49m\u001b[43m \u001b[49m\u001b[43mlevel\u001b[49m\u001b[38;5;241;43m=\u001b[39;49m\u001b[43mlevel\u001b[49m\u001b[43m,\u001b[49m\u001b[43m \u001b[49m\u001b[43merrors\u001b[49m\u001b[38;5;241;43m=\u001b[39;49m\u001b[43merrors\u001b[49m\u001b[43m)\u001b[49m\n\u001b[0;32m   4790\u001b[0m \u001b[38;5;28;01mif\u001b[39;00m inplace:\n\u001b[0;32m   4791\u001b[0m     \u001b[38;5;28mself\u001b[39m\u001b[38;5;241m.\u001b[39m_update_inplace(obj)\n",
            "File \u001b[1;32mc:\\Users\\ead\\Desktop\\projetofinal_tarde\\.venv\\Lib\\site-packages\\pandas\\core\\generic.py:4830\u001b[0m, in \u001b[0;36mNDFrame._drop_axis\u001b[1;34m(self, labels, axis, level, errors, only_slice)\u001b[0m\n\u001b[0;32m   4828\u001b[0m         new_axis \u001b[38;5;241m=\u001b[39m axis\u001b[38;5;241m.\u001b[39mdrop(labels, level\u001b[38;5;241m=\u001b[39mlevel, errors\u001b[38;5;241m=\u001b[39merrors)\n\u001b[0;32m   4829\u001b[0m     \u001b[38;5;28;01melse\u001b[39;00m:\n\u001b[1;32m-> 4830\u001b[0m         new_axis \u001b[38;5;241m=\u001b[39m \u001b[43maxis\u001b[49m\u001b[38;5;241;43m.\u001b[39;49m\u001b[43mdrop\u001b[49m\u001b[43m(\u001b[49m\u001b[43mlabels\u001b[49m\u001b[43m,\u001b[49m\u001b[43m \u001b[49m\u001b[43merrors\u001b[49m\u001b[38;5;241;43m=\u001b[39;49m\u001b[43merrors\u001b[49m\u001b[43m)\u001b[49m\n\u001b[0;32m   4831\u001b[0m     indexer \u001b[38;5;241m=\u001b[39m axis\u001b[38;5;241m.\u001b[39mget_indexer(new_axis)\n\u001b[0;32m   4833\u001b[0m \u001b[38;5;66;03m# Case for non-unique axis\u001b[39;00m\n\u001b[0;32m   4834\u001b[0m \u001b[38;5;28;01melse\u001b[39;00m:\n",
            "File \u001b[1;32mc:\\Users\\ead\\Desktop\\projetofinal_tarde\\.venv\\Lib\\site-packages\\pandas\\core\\indexes\\base.py:7070\u001b[0m, in \u001b[0;36mIndex.drop\u001b[1;34m(self, labels, errors)\u001b[0m\n\u001b[0;32m   7068\u001b[0m \u001b[38;5;28;01mif\u001b[39;00m mask\u001b[38;5;241m.\u001b[39many():\n\u001b[0;32m   7069\u001b[0m     \u001b[38;5;28;01mif\u001b[39;00m errors \u001b[38;5;241m!=\u001b[39m \u001b[38;5;124m\"\u001b[39m\u001b[38;5;124mignore\u001b[39m\u001b[38;5;124m\"\u001b[39m:\n\u001b[1;32m-> 7070\u001b[0m         \u001b[38;5;28;01mraise\u001b[39;00m \u001b[38;5;167;01mKeyError\u001b[39;00m(\u001b[38;5;124mf\u001b[39m\u001b[38;5;124m\"\u001b[39m\u001b[38;5;132;01m{\u001b[39;00mlabels[mask]\u001b[38;5;241m.\u001b[39mtolist()\u001b[38;5;132;01m}\u001b[39;00m\u001b[38;5;124m not found in axis\u001b[39m\u001b[38;5;124m\"\u001b[39m)\n\u001b[0;32m   7071\u001b[0m     indexer \u001b[38;5;241m=\u001b[39m indexer[\u001b[38;5;241m~\u001b[39mmask]\n\u001b[0;32m   7072\u001b[0m \u001b[38;5;28;01mreturn\u001b[39;00m \u001b[38;5;28mself\u001b[39m\u001b[38;5;241m.\u001b[39mdelete(indexer)\n",
            "\u001b[1;31mKeyError\u001b[0m: \"['Times', 'Times.1', 'Times.3'] not found in axis\""
          ]
        }
      ],
      "source": [
        "tabela_brasileirao = tabela_brasileirao.drop(columns=['Times','Times.1','Times.3'])"
      ]
    },
    {
      "cell_type": "code",
      "execution_count": 270,
      "metadata": {},
      "outputs": [
        {
          "data": {
            "text/html": [
              "<div>\n",
              "<style scoped>\n",
              "    .dataframe tbody tr th:only-of-type {\n",
              "        vertical-align: middle;\n",
              "    }\n",
              "\n",
              "    .dataframe tbody tr th {\n",
              "        vertical-align: top;\n",
              "    }\n",
              "\n",
              "    .dataframe thead th {\n",
              "        text-align: right;\n",
              "    }\n",
              "</style>\n",
              "<table border=\"1\" class=\"dataframe\">\n",
              "  <thead>\n",
              "    <tr style=\"text-align: right;\">\n",
              "      <th></th>\n",
              "      <th>Times.2</th>\n",
              "      <th>V</th>\n",
              "    </tr>\n",
              "  </thead>\n",
              "  <tbody>\n",
              "    <tr>\n",
              "      <th>0</th>\n",
              "      <td>Botafogo &gt;&gt;</td>\n",
              "      <td>13</td>\n",
              "    </tr>\n",
              "    <tr>\n",
              "      <th>1</th>\n",
              "      <td>Flamengo &gt;&gt;</td>\n",
              "      <td>12</td>\n",
              "    </tr>\n",
              "    <tr>\n",
              "      <th>2</th>\n",
              "      <td>Fortaleza &gt;&gt;</td>\n",
              "      <td>11</td>\n",
              "    </tr>\n",
              "    <tr>\n",
              "      <th>3</th>\n",
              "      <td>Palmeiras &gt;&gt;</td>\n",
              "      <td>11</td>\n",
              "    </tr>\n",
              "    <tr>\n",
              "      <th>4</th>\n",
              "      <td>Cruzeiro &gt;&gt;</td>\n",
              "      <td>11</td>\n",
              "    </tr>\n",
              "    <tr>\n",
              "      <th>5</th>\n",
              "      <td>SÃ£o Paulo &gt;&gt;</td>\n",
              "      <td>10</td>\n",
              "    </tr>\n",
              "    <tr>\n",
              "      <th>6</th>\n",
              "      <td>Bahia &gt;&gt;</td>\n",
              "      <td>9</td>\n",
              "    </tr>\n",
              "    <tr>\n",
              "      <th>7</th>\n",
              "      <td>Athletico-PR &gt;&gt;</td>\n",
              "      <td>8</td>\n",
              "    </tr>\n",
              "    <tr>\n",
              "      <th>8</th>\n",
              "      <td>AtlÃ©tico-MG &gt;&gt;</td>\n",
              "      <td>7</td>\n",
              "    </tr>\n",
              "    <tr>\n",
              "      <th>9</th>\n",
              "      <td>Bragantino &gt;&gt;</td>\n",
              "      <td>7</td>\n",
              "    </tr>\n",
              "    <tr>\n",
              "      <th>10</th>\n",
              "      <td>Vasco da Gama &gt;&gt;</td>\n",
              "      <td>7</td>\n",
              "    </tr>\n",
              "    <tr>\n",
              "      <th>11</th>\n",
              "      <td>CriciÃºma &gt;&gt;</td>\n",
              "      <td>6</td>\n",
              "    </tr>\n",
              "    <tr>\n",
              "      <th>12</th>\n",
              "      <td>Juventude &gt;&gt;</td>\n",
              "      <td>5</td>\n",
              "    </tr>\n",
              "    <tr>\n",
              "      <th>13</th>\n",
              "      <td>GrÃªmio &gt;&gt;</td>\n",
              "      <td>6</td>\n",
              "    </tr>\n",
              "    <tr>\n",
              "      <th>14</th>\n",
              "      <td>VitÃ³ria &gt;&gt;</td>\n",
              "      <td>6</td>\n",
              "    </tr>\n",
              "    <tr>\n",
              "      <th>15</th>\n",
              "      <td>Internacional &gt;&gt;</td>\n",
              "      <td>5</td>\n",
              "    </tr>\n",
              "    <tr>\n",
              "      <th>16</th>\n",
              "      <td>Fluminense &gt;&gt;</td>\n",
              "      <td>5</td>\n",
              "    </tr>\n",
              "    <tr>\n",
              "      <th>17</th>\n",
              "      <td>Corinthians &gt;&gt;</td>\n",
              "      <td>4</td>\n",
              "    </tr>\n",
              "    <tr>\n",
              "      <th>18</th>\n",
              "      <td>CuiabÃ¡ &gt;&gt;</td>\n",
              "      <td>4</td>\n",
              "    </tr>\n",
              "    <tr>\n",
              "      <th>19</th>\n",
              "      <td>AtlÃ©tico Goianiense &gt;&gt;</td>\n",
              "      <td>2</td>\n",
              "    </tr>\n",
              "  </tbody>\n",
              "</table>\n",
              "</div>"
            ],
            "text/plain": [
              "                    Times.2   V\n",
              "0               Botafogo >>  13\n",
              "1               Flamengo >>  12\n",
              "2              Fortaleza >>  11\n",
              "3              Palmeiras >>  11\n",
              "4               Cruzeiro >>  11\n",
              "5             SÃ£o Paulo >>  10\n",
              "6                  Bahia >>   9\n",
              "7           Athletico-PR >>   8\n",
              "8           AtlÃ©tico-MG >>   7\n",
              "9             Bragantino >>   7\n",
              "10         Vasco da Gama >>   7\n",
              "11             CriciÃºma >>   6\n",
              "12             Juventude >>   5\n",
              "13               GrÃªmio >>   6\n",
              "14              VitÃ³ria >>   6\n",
              "15         Internacional >>   5\n",
              "16            Fluminense >>   5\n",
              "17           Corinthians >>   4\n",
              "18               CuiabÃ¡ >>   4\n",
              "19  AtlÃ©tico Goianiense >>   2"
            ]
          },
          "execution_count": 270,
          "metadata": {},
          "output_type": "execute_result"
        }
      ],
      "source": [
        "tabela_brasileirao[['Times.2','V']]"
      ]
    },
    {
      "cell_type": "code",
      "execution_count": 271,
      "metadata": {},
      "outputs": [
        {
          "name": "stdout",
          "output_type": "stream",
          "text": [
            "<class 'pandas.core.frame.DataFrame'>\n",
            "RangeIndex: 20 entries, 0 to 19\n",
            "Data columns (total 10 columns):\n",
            " #   Column   Non-Null Count  Dtype \n",
            "---  ------   --------------  ----- \n",
            " 0   Times.2  20 non-null     object\n",
            " 1   P        20 non-null     int64 \n",
            " 2   J        20 non-null     int64 \n",
            " 3   V        20 non-null     int64 \n",
            " 4   E        20 non-null     int64 \n",
            " 5   D        20 non-null     int64 \n",
            " 6   GP       20 non-null     int64 \n",
            " 7   GC       20 non-null     int64 \n",
            " 8   SG       20 non-null     int64 \n",
            " 9   %        20 non-null     int64 \n",
            "dtypes: int64(9), object(1)\n",
            "memory usage: 1.7+ KB\n"
          ]
        }
      ],
      "source": [
        "tabela_brasileirao.info()"
      ]
    },
    {
      "cell_type": "code",
      "execution_count": 272,
      "metadata": {},
      "outputs": [
        {
          "data": {
            "text/html": [
              "<div>\n",
              "<style scoped>\n",
              "    .dataframe tbody tr th:only-of-type {\n",
              "        vertical-align: middle;\n",
              "    }\n",
              "\n",
              "    .dataframe tbody tr th {\n",
              "        vertical-align: top;\n",
              "    }\n",
              "\n",
              "    .dataframe thead th {\n",
              "        text-align: right;\n",
              "    }\n",
              "</style>\n",
              "<table border=\"1\" class=\"dataframe\">\n",
              "  <thead>\n",
              "    <tr style=\"text-align: right;\">\n",
              "      <th></th>\n",
              "      <th>P</th>\n",
              "      <th>J</th>\n",
              "      <th>V</th>\n",
              "      <th>E</th>\n",
              "      <th>D</th>\n",
              "      <th>GP</th>\n",
              "      <th>GC</th>\n",
              "      <th>SG</th>\n",
              "      <th>%</th>\n",
              "    </tr>\n",
              "  </thead>\n",
              "  <tbody>\n",
              "    <tr>\n",
              "      <th>count</th>\n",
              "      <td>20.00000</td>\n",
              "      <td>20.000000</td>\n",
              "      <td>20.000000</td>\n",
              "      <td>20.000000</td>\n",
              "      <td>20.000000</td>\n",
              "      <td>20.000000</td>\n",
              "      <td>20.00000</td>\n",
              "      <td>20.000000</td>\n",
              "      <td>20.000000</td>\n",
              "    </tr>\n",
              "    <tr>\n",
              "      <th>mean</th>\n",
              "      <td>27.25000</td>\n",
              "      <td>19.800000</td>\n",
              "      <td>7.450000</td>\n",
              "      <td>4.900000</td>\n",
              "      <td>7.450000</td>\n",
              "      <td>24.000000</td>\n",
              "      <td>24.00000</td>\n",
              "      <td>0.000000</td>\n",
              "      <td>45.350000</td>\n",
              "    </tr>\n",
              "    <tr>\n",
              "      <th>std</th>\n",
              "      <td>8.57705</td>\n",
              "      <td>1.239694</td>\n",
              "      <td>3.051747</td>\n",
              "      <td>1.552587</td>\n",
              "      <td>2.723678</td>\n",
              "      <td>5.973626</td>\n",
              "      <td>5.30144</td>\n",
              "      <td>8.687559</td>\n",
              "      <td>13.468384</td>\n",
              "    </tr>\n",
              "    <tr>\n",
              "      <th>min</th>\n",
              "      <td>12.00000</td>\n",
              "      <td>16.000000</td>\n",
              "      <td>2.000000</td>\n",
              "      <td>2.000000</td>\n",
              "      <td>3.000000</td>\n",
              "      <td>14.000000</td>\n",
              "      <td>14.00000</td>\n",
              "      <td>-18.000000</td>\n",
              "      <td>19.000000</td>\n",
              "    </tr>\n",
              "    <tr>\n",
              "      <th>25%</th>\n",
              "      <td>21.00000</td>\n",
              "      <td>19.000000</td>\n",
              "      <td>5.000000</td>\n",
              "      <td>4.000000</td>\n",
              "      <td>5.750000</td>\n",
              "      <td>19.000000</td>\n",
              "      <td>20.00000</td>\n",
              "      <td>-6.500000</td>\n",
              "      <td>35.250000</td>\n",
              "    </tr>\n",
              "    <tr>\n",
              "      <th>50%</th>\n",
              "      <td>25.00000</td>\n",
              "      <td>20.000000</td>\n",
              "      <td>7.000000</td>\n",
              "      <td>5.000000</td>\n",
              "      <td>7.000000</td>\n",
              "      <td>23.500000</td>\n",
              "      <td>23.50000</td>\n",
              "      <td>0.000000</td>\n",
              "      <td>44.000000</td>\n",
              "    </tr>\n",
              "    <tr>\n",
              "      <th>75%</th>\n",
              "      <td>35.00000</td>\n",
              "      <td>21.000000</td>\n",
              "      <td>10.250000</td>\n",
              "      <td>6.000000</td>\n",
              "      <td>10.000000</td>\n",
              "      <td>28.250000</td>\n",
              "      <td>28.00000</td>\n",
              "      <td>7.000000</td>\n",
              "      <td>55.750000</td>\n",
              "    </tr>\n",
              "    <tr>\n",
              "      <th>max</th>\n",
              "      <td>43.00000</td>\n",
              "      <td>21.000000</td>\n",
              "      <td>13.000000</td>\n",
              "      <td>8.000000</td>\n",
              "      <td>13.000000</td>\n",
              "      <td>35.000000</td>\n",
              "      <td>35.00000</td>\n",
              "      <td>15.000000</td>\n",
              "      <td>68.000000</td>\n",
              "    </tr>\n",
              "  </tbody>\n",
              "</table>\n",
              "</div>"
            ],
            "text/plain": [
              "              P          J          V          E          D         GP  \\\n",
              "count  20.00000  20.000000  20.000000  20.000000  20.000000  20.000000   \n",
              "mean   27.25000  19.800000   7.450000   4.900000   7.450000  24.000000   \n",
              "std     8.57705   1.239694   3.051747   1.552587   2.723678   5.973626   \n",
              "min    12.00000  16.000000   2.000000   2.000000   3.000000  14.000000   \n",
              "25%    21.00000  19.000000   5.000000   4.000000   5.750000  19.000000   \n",
              "50%    25.00000  20.000000   7.000000   5.000000   7.000000  23.500000   \n",
              "75%    35.00000  21.000000  10.250000   6.000000  10.000000  28.250000   \n",
              "max    43.00000  21.000000  13.000000   8.000000  13.000000  35.000000   \n",
              "\n",
              "             GC         SG          %  \n",
              "count  20.00000  20.000000  20.000000  \n",
              "mean   24.00000   0.000000  45.350000  \n",
              "std     5.30144   8.687559  13.468384  \n",
              "min    14.00000 -18.000000  19.000000  \n",
              "25%    20.00000  -6.500000  35.250000  \n",
              "50%    23.50000   0.000000  44.000000  \n",
              "75%    28.00000   7.000000  55.750000  \n",
              "max    35.00000  15.000000  68.000000  "
            ]
          },
          "execution_count": 272,
          "metadata": {},
          "output_type": "execute_result"
        }
      ],
      "source": [
        "tabela_brasileirao.describe()"
      ]
    },
    {
      "cell_type": "markdown",
      "metadata": {},
      "source": [
        " # Estatistica descritiva\n",
        " Não confundir info com Describe. Describe - Mostra dados Estatisticos.\n",
        " Info é para tipos de dados."
      ]
    },
    {
      "cell_type": "code",
      "execution_count": 273,
      "metadata": {},
      "outputs": [
        {
          "data": {
            "text/plain": [
              "0     68\n",
              "1     66\n",
              "2     65\n",
              "3     58\n",
              "4     58\n",
              "5     55\n",
              "6     50\n",
              "7     49\n",
              "8     49\n",
              "9     45\n",
              "10    40\n",
              "11    42\n",
              "12    38\n",
              "13    36\n",
              "14    33\n",
              "15    43\n",
              "16    33\n",
              "17    31\n",
              "18    29\n",
              "19    19\n",
              "Name: %, dtype: int64"
            ]
          },
          "execution_count": 273,
          "metadata": {},
          "output_type": "execute_result"
        }
      ],
      "source": [
        "tabela_brasileirao['%']"
      ]
    },
    {
      "cell_type": "markdown",
      "metadata": {},
      "source": [
        "# Agrupar essa coluna % com outra"
      ]
    },
    {
      "cell_type": "code",
      "execution_count": 278,
      "metadata": {},
      "outputs": [
        {
          "data": {
            "text/plain": [
              "np.float64(45.35)"
            ]
          },
          "execution_count": 278,
          "metadata": {},
          "output_type": "execute_result"
        }
      ],
      "source": [
        "tabela_brasileirao['%'].mean()"
      ]
    },
    {
      "cell_type": "markdown",
      "metadata": {},
      "source": [
        "# Tabular - tabela da página."
      ]
    },
    {
      "cell_type": "code",
      "execution_count": 276,
      "metadata": {},
      "outputs": [],
      "source": [
        "tabela_brasileirao.rename(columns = {'Times.2': 'Times'}, inplace=True)"
      ]
    },
    {
      "cell_type": "code",
      "execution_count": 277,
      "metadata": {},
      "outputs": [
        {
          "data": {
            "text/html": [
              "<div>\n",
              "<style scoped>\n",
              "    .dataframe tbody tr th:only-of-type {\n",
              "        vertical-align: middle;\n",
              "    }\n",
              "\n",
              "    .dataframe tbody tr th {\n",
              "        vertical-align: top;\n",
              "    }\n",
              "\n",
              "    .dataframe thead th {\n",
              "        text-align: right;\n",
              "    }\n",
              "</style>\n",
              "<table border=\"1\" class=\"dataframe\">\n",
              "  <thead>\n",
              "    <tr style=\"text-align: right;\">\n",
              "      <th></th>\n",
              "      <th>Times</th>\n",
              "      <th>P</th>\n",
              "      <th>J</th>\n",
              "      <th>V</th>\n",
              "      <th>E</th>\n",
              "      <th>D</th>\n",
              "      <th>GP</th>\n",
              "      <th>GC</th>\n",
              "      <th>SG</th>\n",
              "      <th>%</th>\n",
              "    </tr>\n",
              "  </thead>\n",
              "  <tbody>\n",
              "    <tr>\n",
              "      <th>0</th>\n",
              "      <td>Botafogo &gt;&gt;</td>\n",
              "      <td>43</td>\n",
              "      <td>21</td>\n",
              "      <td>13</td>\n",
              "      <td>4</td>\n",
              "      <td>4</td>\n",
              "      <td>35</td>\n",
              "      <td>20</td>\n",
              "      <td>15</td>\n",
              "      <td>68</td>\n",
              "    </tr>\n",
              "    <tr>\n",
              "      <th>1</th>\n",
              "      <td>Flamengo &gt;&gt;</td>\n",
              "      <td>40</td>\n",
              "      <td>20</td>\n",
              "      <td>12</td>\n",
              "      <td>4</td>\n",
              "      <td>4</td>\n",
              "      <td>34</td>\n",
              "      <td>20</td>\n",
              "      <td>14</td>\n",
              "      <td>66</td>\n",
              "    </tr>\n",
              "    <tr>\n",
              "      <th>2</th>\n",
              "      <td>Fortaleza &gt;&gt;</td>\n",
              "      <td>39</td>\n",
              "      <td>20</td>\n",
              "      <td>11</td>\n",
              "      <td>6</td>\n",
              "      <td>3</td>\n",
              "      <td>26</td>\n",
              "      <td>19</td>\n",
              "      <td>7</td>\n",
              "      <td>65</td>\n",
              "    </tr>\n",
              "    <tr>\n",
              "      <th>3</th>\n",
              "      <td>Palmeiras &gt;&gt;</td>\n",
              "      <td>37</td>\n",
              "      <td>21</td>\n",
              "      <td>11</td>\n",
              "      <td>4</td>\n",
              "      <td>6</td>\n",
              "      <td>28</td>\n",
              "      <td>17</td>\n",
              "      <td>11</td>\n",
              "      <td>58</td>\n",
              "    </tr>\n",
              "    <tr>\n",
              "      <th>4</th>\n",
              "      <td>Cruzeiro &gt;&gt;</td>\n",
              "      <td>35</td>\n",
              "      <td>20</td>\n",
              "      <td>11</td>\n",
              "      <td>2</td>\n",
              "      <td>7</td>\n",
              "      <td>29</td>\n",
              "      <td>22</td>\n",
              "      <td>7</td>\n",
              "      <td>58</td>\n",
              "    </tr>\n",
              "    <tr>\n",
              "      <th>5</th>\n",
              "      <td>SÃ£o Paulo &gt;&gt;</td>\n",
              "      <td>35</td>\n",
              "      <td>21</td>\n",
              "      <td>10</td>\n",
              "      <td>5</td>\n",
              "      <td>6</td>\n",
              "      <td>29</td>\n",
              "      <td>21</td>\n",
              "      <td>8</td>\n",
              "      <td>55</td>\n",
              "    </tr>\n",
              "    <tr>\n",
              "      <th>6</th>\n",
              "      <td>Bahia &gt;&gt;</td>\n",
              "      <td>32</td>\n",
              "      <td>21</td>\n",
              "      <td>9</td>\n",
              "      <td>5</td>\n",
              "      <td>7</td>\n",
              "      <td>29</td>\n",
              "      <td>25</td>\n",
              "      <td>4</td>\n",
              "      <td>50</td>\n",
              "    </tr>\n",
              "    <tr>\n",
              "      <th>7</th>\n",
              "      <td>Athletico-PR &gt;&gt;</td>\n",
              "      <td>28</td>\n",
              "      <td>19</td>\n",
              "      <td>8</td>\n",
              "      <td>4</td>\n",
              "      <td>7</td>\n",
              "      <td>22</td>\n",
              "      <td>20</td>\n",
              "      <td>2</td>\n",
              "      <td>49</td>\n",
              "    </tr>\n",
              "    <tr>\n",
              "      <th>8</th>\n",
              "      <td>AtlÃ©tico-MG &gt;&gt;</td>\n",
              "      <td>28</td>\n",
              "      <td>19</td>\n",
              "      <td>7</td>\n",
              "      <td>7</td>\n",
              "      <td>5</td>\n",
              "      <td>28</td>\n",
              "      <td>28</td>\n",
              "      <td>0</td>\n",
              "      <td>49</td>\n",
              "    </tr>\n",
              "    <tr>\n",
              "      <th>9</th>\n",
              "      <td>Bragantino &gt;&gt;</td>\n",
              "      <td>26</td>\n",
              "      <td>19</td>\n",
              "      <td>7</td>\n",
              "      <td>5</td>\n",
              "      <td>7</td>\n",
              "      <td>24</td>\n",
              "      <td>23</td>\n",
              "      <td>1</td>\n",
              "      <td>45</td>\n",
              "    </tr>\n",
              "    <tr>\n",
              "      <th>10</th>\n",
              "      <td>Vasco da Gama &gt;&gt;</td>\n",
              "      <td>24</td>\n",
              "      <td>20</td>\n",
              "      <td>7</td>\n",
              "      <td>3</td>\n",
              "      <td>10</td>\n",
              "      <td>22</td>\n",
              "      <td>31</td>\n",
              "      <td>-9</td>\n",
              "      <td>40</td>\n",
              "    </tr>\n",
              "    <tr>\n",
              "      <th>11</th>\n",
              "      <td>CriciÃºma &gt;&gt;</td>\n",
              "      <td>24</td>\n",
              "      <td>19</td>\n",
              "      <td>6</td>\n",
              "      <td>6</td>\n",
              "      <td>7</td>\n",
              "      <td>28</td>\n",
              "      <td>29</td>\n",
              "      <td>-1</td>\n",
              "      <td>42</td>\n",
              "    </tr>\n",
              "    <tr>\n",
              "      <th>12</th>\n",
              "      <td>Juventude &gt;&gt;</td>\n",
              "      <td>22</td>\n",
              "      <td>19</td>\n",
              "      <td>5</td>\n",
              "      <td>7</td>\n",
              "      <td>7</td>\n",
              "      <td>21</td>\n",
              "      <td>25</td>\n",
              "      <td>-4</td>\n",
              "      <td>38</td>\n",
              "    </tr>\n",
              "    <tr>\n",
              "      <th>13</th>\n",
              "      <td>GrÃªmio &gt;&gt;</td>\n",
              "      <td>21</td>\n",
              "      <td>19</td>\n",
              "      <td>6</td>\n",
              "      <td>3</td>\n",
              "      <td>10</td>\n",
              "      <td>17</td>\n",
              "      <td>22</td>\n",
              "      <td>-5</td>\n",
              "      <td>36</td>\n",
              "    </tr>\n",
              "    <tr>\n",
              "      <th>14</th>\n",
              "      <td>VitÃ³ria &gt;&gt;</td>\n",
              "      <td>21</td>\n",
              "      <td>21</td>\n",
              "      <td>6</td>\n",
              "      <td>3</td>\n",
              "      <td>12</td>\n",
              "      <td>23</td>\n",
              "      <td>32</td>\n",
              "      <td>-9</td>\n",
              "      <td>33</td>\n",
              "    </tr>\n",
              "    <tr>\n",
              "      <th>15</th>\n",
              "      <td>Internacional &gt;&gt;</td>\n",
              "      <td>21</td>\n",
              "      <td>16</td>\n",
              "      <td>5</td>\n",
              "      <td>6</td>\n",
              "      <td>5</td>\n",
              "      <td>14</td>\n",
              "      <td>14</td>\n",
              "      <td>0</td>\n",
              "      <td>43</td>\n",
              "    </tr>\n",
              "    <tr>\n",
              "      <th>16</th>\n",
              "      <td>Fluminense &gt;&gt;</td>\n",
              "      <td>20</td>\n",
              "      <td>20</td>\n",
              "      <td>5</td>\n",
              "      <td>5</td>\n",
              "      <td>10</td>\n",
              "      <td>16</td>\n",
              "      <td>24</td>\n",
              "      <td>-8</td>\n",
              "      <td>33</td>\n",
              "    </tr>\n",
              "    <tr>\n",
              "      <th>17</th>\n",
              "      <td>Corinthians &gt;&gt;</td>\n",
              "      <td>20</td>\n",
              "      <td>21</td>\n",
              "      <td>4</td>\n",
              "      <td>8</td>\n",
              "      <td>9</td>\n",
              "      <td>19</td>\n",
              "      <td>28</td>\n",
              "      <td>-9</td>\n",
              "      <td>31</td>\n",
              "    </tr>\n",
              "    <tr>\n",
              "      <th>18</th>\n",
              "      <td>CuiabÃ¡ &gt;&gt;</td>\n",
              "      <td>17</td>\n",
              "      <td>19</td>\n",
              "      <td>4</td>\n",
              "      <td>5</td>\n",
              "      <td>10</td>\n",
              "      <td>19</td>\n",
              "      <td>25</td>\n",
              "      <td>-6</td>\n",
              "      <td>29</td>\n",
              "    </tr>\n",
              "    <tr>\n",
              "      <th>19</th>\n",
              "      <td>AtlÃ©tico Goianiense &gt;&gt;</td>\n",
              "      <td>12</td>\n",
              "      <td>21</td>\n",
              "      <td>2</td>\n",
              "      <td>6</td>\n",
              "      <td>13</td>\n",
              "      <td>17</td>\n",
              "      <td>35</td>\n",
              "      <td>-18</td>\n",
              "      <td>19</td>\n",
              "    </tr>\n",
              "  </tbody>\n",
              "</table>\n",
              "</div>"
            ],
            "text/plain": [
              "                      Times   P   J   V  E   D  GP  GC  SG   %\n",
              "0               Botafogo >>  43  21  13  4   4  35  20  15  68\n",
              "1               Flamengo >>  40  20  12  4   4  34  20  14  66\n",
              "2              Fortaleza >>  39  20  11  6   3  26  19   7  65\n",
              "3              Palmeiras >>  37  21  11  4   6  28  17  11  58\n",
              "4               Cruzeiro >>  35  20  11  2   7  29  22   7  58\n",
              "5             SÃ£o Paulo >>  35  21  10  5   6  29  21   8  55\n",
              "6                  Bahia >>  32  21   9  5   7  29  25   4  50\n",
              "7           Athletico-PR >>  28  19   8  4   7  22  20   2  49\n",
              "8           AtlÃ©tico-MG >>  28  19   7  7   5  28  28   0  49\n",
              "9             Bragantino >>  26  19   7  5   7  24  23   1  45\n",
              "10         Vasco da Gama >>  24  20   7  3  10  22  31  -9  40\n",
              "11             CriciÃºma >>  24  19   6  6   7  28  29  -1  42\n",
              "12             Juventude >>  22  19   5  7   7  21  25  -4  38\n",
              "13               GrÃªmio >>  21  19   6  3  10  17  22  -5  36\n",
              "14              VitÃ³ria >>  21  21   6  3  12  23  32  -9  33\n",
              "15         Internacional >>  21  16   5  6   5  14  14   0  43\n",
              "16            Fluminense >>  20  20   5  5  10  16  24  -8  33\n",
              "17           Corinthians >>  20  21   4  8   9  19  28  -9  31\n",
              "18               CuiabÃ¡ >>  17  19   4  5  10  19  25  -6  29\n",
              "19  AtlÃ©tico Goianiense >>  12  21   2  6  13  17  35 -18  19"
            ]
          },
          "execution_count": 277,
          "metadata": {},
          "output_type": "execute_result"
        }
      ],
      "source": [
        "tabela_brasileirao"
      ]
    },
    {
      "cell_type": "markdown",
      "metadata": {},
      "source": [
        "# Usando str.replace\n",
        "- O replace substitui \n",
        "str.replace('>>','',regex=False)\n",
        "Regex = False: são expressões regulares, Indica que o >> é um texto literal, não uma expressão."
      ]
    },
    {
      "cell_type": "markdown",
      "metadata": {},
      "source": [
        "# Usando str.strip\n",
        "Para remover espaços em branco no inicio e no fim dos dados da coluna usamos str.trip"
      ]
    },
    {
      "cell_type": "code",
      "execution_count": 279,
      "metadata": {},
      "outputs": [],
      "source": [
        "tabela_brasileirao['Times'] = tabela_brasileirao['Times'].str.replace('>>', '',regex=False).str.strip()"
      ]
    },
    {
      "cell_type": "code",
      "execution_count": 280,
      "metadata": {},
      "outputs": [
        {
          "data": {
            "text/html": [
              "<div>\n",
              "<style scoped>\n",
              "    .dataframe tbody tr th:only-of-type {\n",
              "        vertical-align: middle;\n",
              "    }\n",
              "\n",
              "    .dataframe tbody tr th {\n",
              "        vertical-align: top;\n",
              "    }\n",
              "\n",
              "    .dataframe thead th {\n",
              "        text-align: right;\n",
              "    }\n",
              "</style>\n",
              "<table border=\"1\" class=\"dataframe\">\n",
              "  <thead>\n",
              "    <tr style=\"text-align: right;\">\n",
              "      <th></th>\n",
              "      <th>Times</th>\n",
              "      <th>P</th>\n",
              "      <th>J</th>\n",
              "      <th>V</th>\n",
              "      <th>E</th>\n",
              "      <th>D</th>\n",
              "      <th>GP</th>\n",
              "      <th>GC</th>\n",
              "      <th>SG</th>\n",
              "      <th>%</th>\n",
              "    </tr>\n",
              "  </thead>\n",
              "  <tbody>\n",
              "    <tr>\n",
              "      <th>0</th>\n",
              "      <td>Botafogo</td>\n",
              "      <td>43</td>\n",
              "      <td>21</td>\n",
              "      <td>13</td>\n",
              "      <td>4</td>\n",
              "      <td>4</td>\n",
              "      <td>35</td>\n",
              "      <td>20</td>\n",
              "      <td>15</td>\n",
              "      <td>68</td>\n",
              "    </tr>\n",
              "    <tr>\n",
              "      <th>1</th>\n",
              "      <td>Flamengo</td>\n",
              "      <td>40</td>\n",
              "      <td>20</td>\n",
              "      <td>12</td>\n",
              "      <td>4</td>\n",
              "      <td>4</td>\n",
              "      <td>34</td>\n",
              "      <td>20</td>\n",
              "      <td>14</td>\n",
              "      <td>66</td>\n",
              "    </tr>\n",
              "    <tr>\n",
              "      <th>2</th>\n",
              "      <td>Fortaleza</td>\n",
              "      <td>39</td>\n",
              "      <td>20</td>\n",
              "      <td>11</td>\n",
              "      <td>6</td>\n",
              "      <td>3</td>\n",
              "      <td>26</td>\n",
              "      <td>19</td>\n",
              "      <td>7</td>\n",
              "      <td>65</td>\n",
              "    </tr>\n",
              "    <tr>\n",
              "      <th>3</th>\n",
              "      <td>Palmeiras</td>\n",
              "      <td>37</td>\n",
              "      <td>21</td>\n",
              "      <td>11</td>\n",
              "      <td>4</td>\n",
              "      <td>6</td>\n",
              "      <td>28</td>\n",
              "      <td>17</td>\n",
              "      <td>11</td>\n",
              "      <td>58</td>\n",
              "    </tr>\n",
              "    <tr>\n",
              "      <th>4</th>\n",
              "      <td>Cruzeiro</td>\n",
              "      <td>35</td>\n",
              "      <td>20</td>\n",
              "      <td>11</td>\n",
              "      <td>2</td>\n",
              "      <td>7</td>\n",
              "      <td>29</td>\n",
              "      <td>22</td>\n",
              "      <td>7</td>\n",
              "      <td>58</td>\n",
              "    </tr>\n",
              "    <tr>\n",
              "      <th>5</th>\n",
              "      <td>SÃ£o Paulo</td>\n",
              "      <td>35</td>\n",
              "      <td>21</td>\n",
              "      <td>10</td>\n",
              "      <td>5</td>\n",
              "      <td>6</td>\n",
              "      <td>29</td>\n",
              "      <td>21</td>\n",
              "      <td>8</td>\n",
              "      <td>55</td>\n",
              "    </tr>\n",
              "    <tr>\n",
              "      <th>6</th>\n",
              "      <td>Bahia</td>\n",
              "      <td>32</td>\n",
              "      <td>21</td>\n",
              "      <td>9</td>\n",
              "      <td>5</td>\n",
              "      <td>7</td>\n",
              "      <td>29</td>\n",
              "      <td>25</td>\n",
              "      <td>4</td>\n",
              "      <td>50</td>\n",
              "    </tr>\n",
              "    <tr>\n",
              "      <th>7</th>\n",
              "      <td>Athletico-PR</td>\n",
              "      <td>28</td>\n",
              "      <td>19</td>\n",
              "      <td>8</td>\n",
              "      <td>4</td>\n",
              "      <td>7</td>\n",
              "      <td>22</td>\n",
              "      <td>20</td>\n",
              "      <td>2</td>\n",
              "      <td>49</td>\n",
              "    </tr>\n",
              "    <tr>\n",
              "      <th>8</th>\n",
              "      <td>AtlÃ©tico-MG</td>\n",
              "      <td>28</td>\n",
              "      <td>19</td>\n",
              "      <td>7</td>\n",
              "      <td>7</td>\n",
              "      <td>5</td>\n",
              "      <td>28</td>\n",
              "      <td>28</td>\n",
              "      <td>0</td>\n",
              "      <td>49</td>\n",
              "    </tr>\n",
              "    <tr>\n",
              "      <th>9</th>\n",
              "      <td>Bragantino</td>\n",
              "      <td>26</td>\n",
              "      <td>19</td>\n",
              "      <td>7</td>\n",
              "      <td>5</td>\n",
              "      <td>7</td>\n",
              "      <td>24</td>\n",
              "      <td>23</td>\n",
              "      <td>1</td>\n",
              "      <td>45</td>\n",
              "    </tr>\n",
              "    <tr>\n",
              "      <th>10</th>\n",
              "      <td>Vasco da Gama</td>\n",
              "      <td>24</td>\n",
              "      <td>20</td>\n",
              "      <td>7</td>\n",
              "      <td>3</td>\n",
              "      <td>10</td>\n",
              "      <td>22</td>\n",
              "      <td>31</td>\n",
              "      <td>-9</td>\n",
              "      <td>40</td>\n",
              "    </tr>\n",
              "    <tr>\n",
              "      <th>11</th>\n",
              "      <td>CriciÃºma</td>\n",
              "      <td>24</td>\n",
              "      <td>19</td>\n",
              "      <td>6</td>\n",
              "      <td>6</td>\n",
              "      <td>7</td>\n",
              "      <td>28</td>\n",
              "      <td>29</td>\n",
              "      <td>-1</td>\n",
              "      <td>42</td>\n",
              "    </tr>\n",
              "    <tr>\n",
              "      <th>12</th>\n",
              "      <td>Juventude</td>\n",
              "      <td>22</td>\n",
              "      <td>19</td>\n",
              "      <td>5</td>\n",
              "      <td>7</td>\n",
              "      <td>7</td>\n",
              "      <td>21</td>\n",
              "      <td>25</td>\n",
              "      <td>-4</td>\n",
              "      <td>38</td>\n",
              "    </tr>\n",
              "    <tr>\n",
              "      <th>13</th>\n",
              "      <td>GrÃªmio</td>\n",
              "      <td>21</td>\n",
              "      <td>19</td>\n",
              "      <td>6</td>\n",
              "      <td>3</td>\n",
              "      <td>10</td>\n",
              "      <td>17</td>\n",
              "      <td>22</td>\n",
              "      <td>-5</td>\n",
              "      <td>36</td>\n",
              "    </tr>\n",
              "    <tr>\n",
              "      <th>14</th>\n",
              "      <td>VitÃ³ria</td>\n",
              "      <td>21</td>\n",
              "      <td>21</td>\n",
              "      <td>6</td>\n",
              "      <td>3</td>\n",
              "      <td>12</td>\n",
              "      <td>23</td>\n",
              "      <td>32</td>\n",
              "      <td>-9</td>\n",
              "      <td>33</td>\n",
              "    </tr>\n",
              "    <tr>\n",
              "      <th>15</th>\n",
              "      <td>Internacional</td>\n",
              "      <td>21</td>\n",
              "      <td>16</td>\n",
              "      <td>5</td>\n",
              "      <td>6</td>\n",
              "      <td>5</td>\n",
              "      <td>14</td>\n",
              "      <td>14</td>\n",
              "      <td>0</td>\n",
              "      <td>43</td>\n",
              "    </tr>\n",
              "    <tr>\n",
              "      <th>16</th>\n",
              "      <td>Fluminense</td>\n",
              "      <td>20</td>\n",
              "      <td>20</td>\n",
              "      <td>5</td>\n",
              "      <td>5</td>\n",
              "      <td>10</td>\n",
              "      <td>16</td>\n",
              "      <td>24</td>\n",
              "      <td>-8</td>\n",
              "      <td>33</td>\n",
              "    </tr>\n",
              "    <tr>\n",
              "      <th>17</th>\n",
              "      <td>Corinthians</td>\n",
              "      <td>20</td>\n",
              "      <td>21</td>\n",
              "      <td>4</td>\n",
              "      <td>8</td>\n",
              "      <td>9</td>\n",
              "      <td>19</td>\n",
              "      <td>28</td>\n",
              "      <td>-9</td>\n",
              "      <td>31</td>\n",
              "    </tr>\n",
              "    <tr>\n",
              "      <th>18</th>\n",
              "      <td>CuiabÃ¡</td>\n",
              "      <td>17</td>\n",
              "      <td>19</td>\n",
              "      <td>4</td>\n",
              "      <td>5</td>\n",
              "      <td>10</td>\n",
              "      <td>19</td>\n",
              "      <td>25</td>\n",
              "      <td>-6</td>\n",
              "      <td>29</td>\n",
              "    </tr>\n",
              "    <tr>\n",
              "      <th>19</th>\n",
              "      <td>AtlÃ©tico Goianiense</td>\n",
              "      <td>12</td>\n",
              "      <td>21</td>\n",
              "      <td>2</td>\n",
              "      <td>6</td>\n",
              "      <td>13</td>\n",
              "      <td>17</td>\n",
              "      <td>35</td>\n",
              "      <td>-18</td>\n",
              "      <td>19</td>\n",
              "    </tr>\n",
              "  </tbody>\n",
              "</table>\n",
              "</div>"
            ],
            "text/plain": [
              "                   Times   P   J   V  E   D  GP  GC  SG   %\n",
              "0               Botafogo  43  21  13  4   4  35  20  15  68\n",
              "1               Flamengo  40  20  12  4   4  34  20  14  66\n",
              "2              Fortaleza  39  20  11  6   3  26  19   7  65\n",
              "3              Palmeiras  37  21  11  4   6  28  17  11  58\n",
              "4               Cruzeiro  35  20  11  2   7  29  22   7  58\n",
              "5             SÃ£o Paulo  35  21  10  5   6  29  21   8  55\n",
              "6                  Bahia  32  21   9  5   7  29  25   4  50\n",
              "7           Athletico-PR  28  19   8  4   7  22  20   2  49\n",
              "8           AtlÃ©tico-MG  28  19   7  7   5  28  28   0  49\n",
              "9             Bragantino  26  19   7  5   7  24  23   1  45\n",
              "10         Vasco da Gama  24  20   7  3  10  22  31  -9  40\n",
              "11             CriciÃºma  24  19   6  6   7  28  29  -1  42\n",
              "12             Juventude  22  19   5  7   7  21  25  -4  38\n",
              "13               GrÃªmio  21  19   6  3  10  17  22  -5  36\n",
              "14              VitÃ³ria  21  21   6  3  12  23  32  -9  33\n",
              "15         Internacional  21  16   5  6   5  14  14   0  43\n",
              "16            Fluminense  20  20   5  5  10  16  24  -8  33\n",
              "17           Corinthians  20  21   4  8   9  19  28  -9  31\n",
              "18               CuiabÃ¡  17  19   4  5  10  19  25  -6  29\n",
              "19  AtlÃ©tico Goianiense  12  21   2  6  13  17  35 -18  19"
            ]
          },
          "execution_count": 280,
          "metadata": {},
          "output_type": "execute_result"
        }
      ],
      "source": [
        "tabela_brasileirao"
      ]
    }
  ],
  "metadata": {
    "colab": {
      "provenance": []
    },
    "kernelspec": {
      "display_name": ".venv",
      "language": "python",
      "name": "python3"
    },
    "language_info": {
      "codemirror_mode": {
        "name": "ipython",
        "version": 3
      },
      "file_extension": ".py",
      "mimetype": "text/x-python",
      "name": "python",
      "nbconvert_exporter": "python",
      "pygments_lexer": "ipython3",
      "version": "3.12.5"
    }
  },
  "nbformat": 4,
  "nbformat_minor": 0
}
